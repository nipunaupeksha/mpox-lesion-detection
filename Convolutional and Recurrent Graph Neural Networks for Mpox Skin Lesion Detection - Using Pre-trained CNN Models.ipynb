{
 "cells": [
  {
   "cell_type": "markdown",
   "id": "0941088c-9218-46c3-98b0-e5363be29625",
   "metadata": {},
   "source": [
    "# 🤖 Use Pre-trained CNN Models to Identify MPox"
   ]
  },
  {
   "cell_type": "markdown",
   "id": "26c1b45b-ebce-4a80-a076-44af84d7e0b2",
   "metadata": {},
   "source": [
    "Here, we are going to use a few pre-trained CNN models to identify MPox from other dermatological diseases. The dataset we are using has the following sets of images.\n",
    "\n",
    "- Actinic keratoses\n",
    "- Basal cell carcinoma\n",
    "- Benign keratosis-like lesions\n",
    "- Chickenpox\n",
    "- Cowpox\n",
    "- Dermatofibroma\n",
    "- Healthy\n",
    "- HFMD\n",
    "- Measles\n",
    "- Melanocytic nevi\n",
    "- Melanoma\n",
    "- Monkeypox\n",
    "- Squamous cell carcinoma\n",
    "- Vascular lesions\n",
    "\n",
    "We are going to use the following pre-trained CNN models to identify MPox.\n",
    "\n",
    "- ***Resnet50V2***\n",
    "  - ResNet50V2 is an improved version of the ResNet50 deep convolutional neural network architecture, designed with batch normalization before activation functions and identity mapping to enhance training stability and performance for image recognition tasks."
   ]
  },
  {
   "cell_type": "markdown",
   "id": "f9922127-7210-4415-b8d4-165420962abf",
   "metadata": {},
   "source": [
    "## 🗂️ Import Libraries"
   ]
  },
  {
   "cell_type": "markdown",
   "id": "8fc4b749-1890-41d3-af26-4c8dfd90dea6",
   "metadata": {},
   "source": [
    "The following code block imports all the libraries that are necessary for our development purposes.\n",
    "\n",
    "#### 🔢 `numpy`\n",
    "- NumPy is a powerful Python library used for numerical computing, providing support for large, multi-dimensional arrays, matrices, and high-level mathematical functions to operate on them efficiently.\n",
    "\n",
    "#### 🐼 `pandas`\n",
    "- Pandas is a Python library designed for data manipulation and analysis, offering easy-to-use data structures like DataFrames and Series for handling structured data efficiently.\n",
    "\n",
    "#### 👣 `pathlib`\n",
    "- Pathlib is a Python library that provides an object-oriented interface for working with filesystem paths, making path manipulation and file operations more intuitive and cross-platform.\n",
    "\n",
    "#### 📈 `matplotlib`\n",
    "- Matplotlib is a Python library for creating static, interactive, and animated visualizations in a variety of formats, including plots, graphs, and charts.\n",
    "\n",
    "#### ⚡ `tensorflow`\n",
    "- TensorFlow is an open-source library designed for building and deploying machine learning and deep learning models, offering a flexible ecosystem for numerical computation and AI development.\n",
    "\n",
    "#### 🌊 `seaborn`\n",
    "- Seaborn is a Python library built on Matplotlib that simplifies creating aesthetically pleasing and informative statistical graphics for data visualization.\n",
    "\n",
    "#### 💻 `os`\n",
    "- The os library in Python provides a way to interact with the operating system, enabling tasks such as file and directory manipulation, environment variable access, and process management.\n",
    "\n",
    "#### 🔬 `scikit-learn`\n",
    "- Scikit-learn is a Python library that provides simple and efficient tools for data mining, data analysis, and machine learning, including classification, regression, and clustering algorithms."
   ]
  },
  {
   "cell_type": "code",
   "execution_count": 7,
   "id": "00cb81b1-4749-4040-ba3c-085ad604163c",
   "metadata": {},
   "outputs": [],
   "source": [
    "## 🗂️ Import Libraries\n",
    "\n",
    "import numpy as np\n",
    "import pandas as pd\n",
    "from pathlib import Path\n",
    "import os\n",
    "import matplotlib.pyplot as plt\n",
    "from IPython.display import Image, display\n",
    "import matplotlib.cm as cm\n",
    "from sklearn.model_selection import train_test_split\n",
    "from sklearn.metrics import confusion_matrix, classification_report\n",
    "import seaborn as sns\n",
    "import tensorflow as tf"
   ]
  },
  {
   "cell_type": "markdown",
   "id": "83f904e8-ee6c-462b-a922-1ef2f94fe344",
   "metadata": {},
   "source": [
    "## ♾️ Constants"
   ]
  },
  {
   "cell_type": "code",
   "execution_count": 8,
   "id": "2c860838-f93c-4886-a0d5-90511dd4f2a9",
   "metadata": {},
   "outputs": [],
   "source": [
    "## ♾️ Constants\n",
    "\n",
    "### Directory Paths\n",
    "ORIGINAL_DATA_PATH = './data/original'\n",
    "AUGMENTED_DATA_PATH = './data/augmented'\n",
    "TRAIN_DIRECTORY = 'train'\n",
    "TEST_DIRECTORY = 'test'\n",
    "VALIDATION_DIRECTORY = 'val'\n",
    "\n",
    "### Directories containing the images\n",
    "DATA_DIRECTORIES = ['Actinic keratoses', 'Basal cell carcinoma', 'Benign keratosis-like lesions', 'Chickenpox', 'Cowpox', 'Dermatofibroma', 'Healthy', 'HFMD', 'Measles', 'Melanocytic nevi', 'Melanoma', 'Monkeypox', 'Squamous cell carcinoma', 'Vascular lesions']\n"
   ]
  },
  {
   "cell_type": "markdown",
   "id": "a3a778f5-12a4-4e02-81a1-27039436e36a",
   "metadata": {},
   "source": [
    "## ✨ Part 1 - Create Models using Original Images"
   ]
  },
  {
   "cell_type": "markdown",
   "id": "f8f8f1e4-c6c8-4d76-a534-a4a27f0027ee",
   "metadata": {},
   "source": [
    "In this section, we will create the models using only the original images, and not the augmented images. The reason behind this is, we already have a sufficient amount of data in our training dataset and we need to check whether we can have a good accuracy without using the augmented images.\n",
    "\n",
    "If the accuracies are low, then we are going to use augmented images and create the models again."
   ]
  },
  {
   "cell_type": "markdown",
   "id": "f0e2a5cd-37ab-42c7-8b86-ba435d270f16",
   "metadata": {},
   "source": [
    "## 🗃️ Creating File Data Frame"
   ]
  },
  {
   "cell_type": "code",
   "execution_count": null,
   "id": "b40cadbf-d7b9-47a9-845e-0d225f938b34",
   "metadata": {},
   "outputs": [],
   "source": []
  },
  {
   "cell_type": "code",
   "execution_count": 12,
   "id": "ef9b0e42-e890-4184-b07f-0eb53770a1b0",
   "metadata": {},
   "outputs": [
    {
     "data": {
      "text/html": [
       "<div>\n",
       "<style scoped>\n",
       "    .dataframe tbody tr th:only-of-type {\n",
       "        vertical-align: middle;\n",
       "    }\n",
       "\n",
       "    .dataframe tbody tr th {\n",
       "        vertical-align: top;\n",
       "    }\n",
       "\n",
       "    .dataframe thead th {\n",
       "        text-align: right;\n",
       "    }\n",
       "</style>\n",
       "<table border=\"1\" class=\"dataframe\">\n",
       "  <thead>\n",
       "    <tr style=\"text-align: right;\">\n",
       "      <th></th>\n",
       "      <th>Path</th>\n",
       "      <th>Label</th>\n",
       "    </tr>\n",
       "  </thead>\n",
       "  <tbody>\n",
       "    <tr>\n",
       "      <th>0</th>\n",
       "      <td>data/original/train/Squamous cell carcinoma/IS...</td>\n",
       "      <td>Squamous cell carcinoma</td>\n",
       "    </tr>\n",
       "    <tr>\n",
       "      <th>1</th>\n",
       "      <td>data/original/train/Benign keratosis-like lesi...</td>\n",
       "      <td>Benign keratosis-like lesions</td>\n",
       "    </tr>\n",
       "    <tr>\n",
       "      <th>2</th>\n",
       "      <td>data/original/train/HFMD/HFMD_98_01_7.jpg</td>\n",
       "      <td>HFMD</td>\n",
       "    </tr>\n",
       "    <tr>\n",
       "      <th>3</th>\n",
       "      <td>data/original/train/Chickenpox/CHP_23_01_2.jpg</td>\n",
       "      <td>Chickenpox</td>\n",
       "    </tr>\n",
       "    <tr>\n",
       "      <th>4</th>\n",
       "      <td>data/original/train/Measles/MSL_34_01_5.jpg</td>\n",
       "      <td>Measles</td>\n",
       "    </tr>\n",
       "    <tr>\n",
       "      <th>5</th>\n",
       "      <td>data/original/train/Actinic keratoses/ISIC_006...</td>\n",
       "      <td>Actinic keratoses</td>\n",
       "    </tr>\n",
       "    <tr>\n",
       "      <th>6</th>\n",
       "      <td>data/original/train/Chickenpox/CHP_25_01_7.jpg</td>\n",
       "      <td>Chickenpox</td>\n",
       "    </tr>\n",
       "    <tr>\n",
       "      <th>7</th>\n",
       "      <td>data/original/train/Squamous cell carcinoma/IS...</td>\n",
       "      <td>Squamous cell carcinoma</td>\n",
       "    </tr>\n",
       "    <tr>\n",
       "      <th>8</th>\n",
       "      <td>data/original/train/Benign keratosis-like lesi...</td>\n",
       "      <td>Benign keratosis-like lesions</td>\n",
       "    </tr>\n",
       "    <tr>\n",
       "      <th>9</th>\n",
       "      <td>data/original/train/Healthy/HEALTHY_10_01_7.jpg</td>\n",
       "      <td>Healthy</td>\n",
       "    </tr>\n",
       "  </tbody>\n",
       "</table>\n",
       "</div>"
      ],
      "text/plain": [
       "                                                Path  \\\n",
       "0  data/original/train/Squamous cell carcinoma/IS...   \n",
       "1  data/original/train/Benign keratosis-like lesi...   \n",
       "2          data/original/train/HFMD/HFMD_98_01_7.jpg   \n",
       "3     data/original/train/Chickenpox/CHP_23_01_2.jpg   \n",
       "4        data/original/train/Measles/MSL_34_01_5.jpg   \n",
       "5  data/original/train/Actinic keratoses/ISIC_006...   \n",
       "6     data/original/train/Chickenpox/CHP_25_01_7.jpg   \n",
       "7  data/original/train/Squamous cell carcinoma/IS...   \n",
       "8  data/original/train/Benign keratosis-like lesi...   \n",
       "9    data/original/train/Healthy/HEALTHY_10_01_7.jpg   \n",
       "\n",
       "                           Label  \n",
       "0        Squamous cell carcinoma  \n",
       "1  Benign keratosis-like lesions  \n",
       "2                           HFMD  \n",
       "3                     Chickenpox  \n",
       "4                        Measles  \n",
       "5              Actinic keratoses  \n",
       "6                     Chickenpox  \n",
       "7        Squamous cell carcinoma  \n",
       "8  Benign keratosis-like lesions  \n",
       "9                        Healthy  "
      ]
     },
     "execution_count": 12,
     "metadata": {},
     "output_type": "execute_result"
    }
   ],
   "source": [
    "## 🗃️ Creating File Data Frame\n",
    "\n",
    "### Load the base directory path\n",
    "path = os.path.join(ORIGINAL_DATA_PATH, TRAIN_DIRECTORY)\n",
    "image_dir = Path(path)\n",
    "\n",
    "### Get file paths and assign labels\n",
    "file_paths = list(image_dir.glob(r'**/*.jpg'))\n",
    "labels = list(map(lambda x: os.path.split(os.path.split(x)[0])[1], file_paths))\n",
    "\n",
    "file_paths = pd.Series(file_paths, name='Path').astype(str)\n",
    "labels = pd.Series(labels, name='Label')\n",
    "\n",
    "### Concatenate file paths and labels\n",
    "image_df = pd.concat([file_paths, labels], axis=1)\n",
    "\n",
    "### Sample 190 images from each class\n",
    "### Otherwise, we are going to have a bias in the dataset\n",
    "samples = []\n",
    "for record in image_df['Label'].unique():\n",
    "    samples.append(image_df[image_df['Label']==record].sample(190, random_state=42))\n",
    "image_df = pd.concat(samples, axis=0).sample(frac=1.0, random_state=42).reset_index(drop=True)\n",
    "\n",
    "### Show the results\n",
    "image_df.head(10)"
   ]
  },
  {
   "cell_type": "code",
   "execution_count": null,
   "id": "b30b2707-812c-4eda-b823-c81630de3cfe",
   "metadata": {},
   "outputs": [],
   "source": []
  },
  {
   "cell_type": "code",
   "execution_count": null,
   "id": "4e95b313-b565-457e-bf64-ee9e5541f3c8",
   "metadata": {},
   "outputs": [],
   "source": []
  },
  {
   "cell_type": "code",
   "execution_count": null,
   "id": "0c7dea39-c2f3-4808-b6b1-a0e5cacc469e",
   "metadata": {},
   "outputs": [],
   "source": []
  },
  {
   "cell_type": "code",
   "execution_count": null,
   "id": "8dc26ba1-6783-4e6e-95b9-9fdf6023c734",
   "metadata": {},
   "outputs": [],
   "source": []
  }
 ],
 "metadata": {
  "kernelspec": {
   "display_name": "Python 3 (ipykernel)",
   "language": "python",
   "name": "python3"
  },
  "language_info": {
   "codemirror_mode": {
    "name": "ipython",
    "version": 3
   },
   "file_extension": ".py",
   "mimetype": "text/x-python",
   "name": "python",
   "nbconvert_exporter": "python",
   "pygments_lexer": "ipython3",
   "version": "3.8.18"
  }
 },
 "nbformat": 4,
 "nbformat_minor": 5
}
