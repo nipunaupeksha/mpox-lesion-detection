{
 "cells": [
  {
   "cell_type": "markdown",
   "id": "a68afba7-8ecf-48f6-820e-58c4d0d0dc2b",
   "metadata": {},
   "source": [
    "# 🎨 Image Augmentation"
   ]
  },
  {
   "cell_type": "markdown",
   "id": "311034d3-67b1-4d1a-950f-973c3e872258",
   "metadata": {},
   "source": [
    "Data preparation is a crucial task when working with neural networks and deep learning models. Therefore, when preparing data, data augmentation is used to increase the amount of data. In other words, having a large dataset allows you to have a larger dataset which in return gives you a more robust model. \n",
    "\n",
    "However acquiring more data is not easy and there can be problems of storing them and feeding it to the model. To mitigate this issue, we can either increase the data manually be doing some changes or we can use one of Keras image pre-processing classes to increase the number of images."
   ]
  },
  {
   "cell_type": "markdown",
   "id": "c3686de8-35b0-443e-ad9b-fd58a13ca406",
   "metadata": {},
   "source": [
    "## 🗂️ Import Libraries\n",
    "The following code block imports all the libraries that are necessary for our development purposes.\n",
    "\n",
    "#### 🧠 `keras`\n",
    "- Keras is a high-level deep learning library in Python that simplifies the creation and training of neural networks by providing an intuitive interface to underlying frameworks like TensorFlow.\n",
    "\n",
    "#### ⚡ `tensorflow`\n",
    "- TensorFlow is an open-source library designed for building and deploying machine learning and deep learning models, offering a flexible ecosystem for numerical computation and AI development.\n",
    "\n",
    "#### 💻 `os`\n",
    "- The os library in Python provides a way to interact with the operating system, enabling tasks such as file and directory manipulation, environment variable access, and process management.\n",
    "\n",
    "#### 📄 `shutil`\n",
    "- The shutil library in Python provides a suite of functions for high-level file operations, including copying, moving, renaming, and deleting files and directories."
   ]
  },
  {
   "cell_type": "code",
   "execution_count": 1,
   "id": "c1a8910a-5418-4208-8d84-e3fe5c2be37e",
   "metadata": {},
   "outputs": [],
   "source": [
    "## 🗂️ Import libraries\n",
    "\n",
    "from keras.preprocessing.image import ImageDataGenerator\n",
    "from tensorflow.keras.utils import img_to_array, array_to_img, img_to_array, load_img\n",
    "import os\n",
    "import shutil"
   ]
  },
  {
   "cell_type": "markdown",
   "id": "604e00d9-3b7d-4e51-b52d-6075087e2873",
   "metadata": {},
   "source": [
    "## ♾️ Constants\n",
    "While proceeding with image augementation process, we need some constants that may refer the directory paths, image category names, data generation properties, etc."
   ]
  },
  {
   "cell_type": "code",
   "execution_count": 2,
   "id": "143c78f8-a1de-47f2-bd9b-1fbac5cbd93c",
   "metadata": {},
   "outputs": [],
   "source": [
    "## ♾️ Constants\n",
    "\n",
    "### Directory Paths\n",
    "ORIGINAL_DATA_PATH = './data/original'\n",
    "AUGMENTED_DATA_PATH = './data/augmented'\n",
    "TRAIN_DIRECTORY = 'train'\n",
    "TEST_DIRECTORY = 'test'\n",
    "VALIDATION_DIRECTORY = 'val'\n",
    "\n",
    "### Directories containing the images\n",
    "SUB_DIRECTORIES = [TRAIN_DIRECTORY, TEST_DIRECTORY, VALIDATION_DIRECTORY]\n",
    "DATA_DIRECTORIES = ['Actinic keratoses', 'Basal cell carcinoma', 'Benign keratosis-like lesions', 'Chickenpox', 'Cowpox', 'Dermatofibroma', 'Healthy', 'HFMD', 'Measles', 'Melanocytic nevi', 'Melanoma', 'Monkeypox', 'Squamous cell carcinoma', 'Vascular lesions']\n",
    "\n",
    "### Specific files\n",
    "DS_STORE = '.DS_Store'\n",
    "\n",
    "### Data generation properties\n",
    "ROTATION_RANGE = 40\n",
    "WIDTH_SHIFT_RANGE = 0.2\n",
    "HEIGHT_SHIFT_RANGE = 0.2\n",
    "SHEAR_RANGE = 0.2\n",
    "ZOOM_RANGE = 0.2\n",
    "HORIZONTAL_FLIP = True\n",
    "FILL_MODE = 'nearest'"
   ]
  },
  {
   "cell_type": "markdown",
   "id": "1448e669-c900-4142-a3e7-307660bddd4a",
   "metadata": {},
   "source": [
    "## 💾 Define Data Generation Properties\n",
    "Next, we need to define data-gen properties. This way more data is generated according to the parameters we define. The parameters we will be using for this are as follows.\n",
    "\n",
    "- ↻ `rotation_range`\n",
    "    - Specifies the range(in degrees) within which the image is randomly rotated.\n",
    "    - For example, a value of `40` means the image can be rotated randomly by up to `40` degrees in either direction(clockwise or counterclockwise).<br><br>\n",
    "    \n",
    "- ↔ `width_shift_range`\n",
    "    - Specifies the fraction of the total width of the image by which it can be randomly shifted horizontally.\n",
    "    - For example, a value of `0.2` allows a horizontal shift of up to `20%` of the image's width.<br><br>\n",
    "    \n",
    "- ↕ `height_shift_range`\n",
    "    - Specifies the fraction of the total height of the image by which it can be randomly shifted vertically.\n",
    "    - For example, a value of `0.2` allows a vertical shift of up to `20%` of the image's height.<br><br>\n",
    "  \n",
    "- ➤ `shear_range`\n",
    "    - Specifies the intensity of shear transformation as a shear angle in a counterclockwise direction in degrees.\n",
    "    - A shear transformation distorts the image along an axis creating a parallelogram effect.<br><br>\n",
    "\n",
    "- 🔎 `zoom_range`\n",
    "   - Specifies the range for random zoom. It can zoom in or out within this range.\n",
    "   - For example, a value of `0.2` means the image size can be varied randomly by up to `±20%`.<br><br>\n",
    "\n",
    "- ― `horizontal_flip`\n",
    "   - Specifies whether the image should be flipped horizontally.\n",
    "   - If `True`, the image is randomly flipped along the horizontal axis, mirroring it.<br><br>\n",
    "\n",
    "- 🚰 `fill_mode`\n",
    "   - Specifies the strategy for filling in pixels that are introduced during transformations.\n",
    "   - The value `nearest` means the nearest pixel values are used to fill these gaps."
   ]
  },
  {
   "cell_type": "code",
   "execution_count": 3,
   "id": "41a803d0-6231-4ef1-af12-b0d68dc9bc34",
   "metadata": {},
   "outputs": [],
   "source": [
    "## 💾 Define Data Generation Properties\n",
    "\n",
    "datagen = ImageDataGenerator(\n",
    "    rotation_range=ROTATION_RANGE,\n",
    "    width_shift_range=WIDTH_SHIFT_RANGE,\n",
    "    height_shift_range=HEIGHT_SHIFT_RANGE,\n",
    "    shear_range=SHEAR_RANGE,\n",
    "    zoom_range=ZOOM_RANGE,\n",
    "    horizontal_flip=HORIZONTAL_FLIP,\n",
    "    fill_mode=FILL_MODE)"
   ]
  },
  {
   "cell_type": "markdown",
   "id": "702facd0-624f-455c-9db2-e326ef8c9abf",
   "metadata": {},
   "source": [
    "## 📂 Create Directories to Store the Augmented Images"
   ]
  },
  {
   "cell_type": "markdown",
   "id": "ac8bf070-cc3c-42a2-b9c3-4bd5f473b7a7",
   "metadata": {},
   "source": [
    "Since our original data is presented in the following way, we need to create augmented images for all, `train`, `test`, and `val`(`validation`) directories. \n",
    "\n",
    "```\n",
    "data\n",
    " └── original\n",
    "       ├── test\n",
    "       ├── train\n",
    "       └── val\n",
    "```\n",
    "\n",
    "Therefore, we need to have a separate directory to hold the augmented images.\n",
    "\n",
    "```\n",
    "data\n",
    " └── augmented\n",
    "       ├── test\n",
    "       ├── train\n",
    "       └── val\n",
    " └── original\n",
    "       ├── test\n",
    "       ├── train\n",
    "       └── val\n",
    "```\n",
    "\n",
    "\n",
    "Also, we will only be using the augmented images for training our models. However, image augmentation is a unilateral task from training the models. Therefore, having all the images augmented in one go will make our development easier."
   ]
  },
  {
   "cell_type": "code",
   "execution_count": 4,
   "id": "77d0ab9f-4924-46dc-9251-cd81a2f3e22b",
   "metadata": {},
   "outputs": [],
   "source": [
    "## 📂 Create Directories to Store the Augmented Images\n",
    "\n",
    "### Create train, test, and val directories\n",
    "for sub_directory in SUB_DIRECTORIES:\n",
    "    path = AUGMENTED_DATA_PATH\n",
    "    path = os.path.join(path, sub_directory)\n",
    "    os.mkdir(path)\n",
    "\n",
    "### Create data directories inside of the train, test, and val directories\n",
    "for data_directory in DATA_DIRECTORIES:\n",
    "    for sub_directory in SUB_DIRECTORIES:\n",
    "        path = AUGMENTED_DATA_PATH\n",
    "        path = os.path.join(path, sub_directory, data_directory)\n",
    "        os.mkdir(path)"
   ]
  },
  {
   "cell_type": "markdown",
   "id": "fda1d35f-cfac-4782-9ed9-c04caed8085c",
   "metadata": {},
   "source": [
    "## ✨ Generate Images"
   ]
  },
  {
   "cell_type": "markdown",
   "id": "ca413876-33d9-4315-8d62-5ebb3e7138b4",
   "metadata": {},
   "source": [
    "Now we need to iterates through the data directories and subdirectories, applies data augmentation to images, and saves the augmented images alongside the originals in a specified output directory. \n",
    "\n",
    "For each image file, we need to also skip the hidden system files like `.DS_Store`, loads the image using `load_img`, converts it to a NumPy array using `img_to_array`, and reshapes it to a 4D array suitable for batch processing. \n",
    "\n",
    "Afterwards, using the data generator we defined, we can create batches of augmented images by applying random transformations like rotation, zoom, and flipping, saving up to 20 transformed versions of each image in the output directory. \n",
    "\n",
    "Finally, we copy the original image to that output directory as well."
   ]
  },
  {
   "cell_type": "code",
   "execution_count": 5,
   "id": "9b5806b1-32d8-49bc-877a-8e4a363877df",
   "metadata": {},
   "outputs": [
    {
     "name": "stdout",
     "output_type": "stream",
     "text": [
      "./data/augmented/val/Vascular lesions/ISIC_0062878.jpg\n",
      "./data/augmented/val/Vascular lesions/ISIC_0069939.jpg\n",
      "./data/augmented/val/Vascular lesions/ISIC_0071186.jpg\n",
      "./data/augmented/val/Vascular lesions/ISIC_0060706.jpg\n",
      "./data/augmented/val/Vascular lesions/ISIC_0029460.jpg\n",
      "./data/augmented/val/Vascular lesions/ISIC_0065118.jpg\n",
      "./data/augmented/val/Vascular lesions/ISIC_0064951.jpg\n",
      "./data/augmented/val/Vascular lesions/ISIC_0064789.jpg\n",
      "./data/augmented/val/Vascular lesions/ISIC_0059408.jpg\n",
      "./data/augmented/val/Vascular lesions/ISIC_0053657.jpg\n",
      "./data/augmented/val/Vascular lesions/ISIC_0057431.jpg\n",
      "./data/augmented/val/Vascular lesions/ISIC_0063019.jpg\n",
      "./data/augmented/val/Vascular lesions/ISIC_0067519.jpg\n",
      "./data/augmented/val/Vascular lesions/ISIC_0031993.jpg\n",
      "./data/augmented/val/Vascular lesions/ISIC_0056920.jpg\n",
      "./data/augmented/val/Vascular lesions/ISIC_0061154.jpg\n",
      "./data/augmented/val/Vascular lesions/ISIC_0056115.jpg\n",
      "./data/augmented/val/Vascular lesions/ISIC_0059540.jpg\n",
      "./data/augmented/val/Vascular lesions/ISIC_0069483.jpg\n",
      "./data/augmented/val/Vascular lesions/ISIC_0056101.jpg\n",
      "./data/augmented/val/Vascular lesions/ISIC_0057586.jpg\n",
      "./data/augmented/val/Vascular lesions/ISIC_0054272.jpg\n",
      "./data/augmented/val/Vascular lesions/ISIC_0058460.jpg\n",
      "./data/augmented/val/Vascular lesions/ISIC_0061593.jpg\n",
      "./data/augmented/val/Vascular lesions/ISIC_0065078.jpg\n",
      "./data/augmented/val/Vascular lesions/ISIC_0029500.jpg\n",
      "./data/augmented/val/Vascular lesions/ISIC_0063435.jpg\n",
      "./data/augmented/val/Vascular lesions/ISIC_0067647.jpg\n",
      "./data/augmented/val/Vascular lesions/ISIC_0026626.jpg\n",
      "./data/augmented/val/Vascular lesions/ISIC_0032135.jpg\n",
      "./data/augmented/val/Vascular lesions/ISIC_0069125.jpg\n",
      "./data/augmented/val/Vascular lesions/ISIC_0065938.jpg\n",
      "./data/augmented/val/Vascular lesions/ISIC_0056302.jpg\n",
      "./data/augmented/val/Vascular lesions/ISIC_0067450.jpg\n",
      "./data/augmented/val/Vascular lesions/ISIC_0063178.jpg\n",
      "./data/augmented/val/Vascular lesions/ISIC_0064617.jpg\n",
      "./data/augmented/val/Vascular lesions/ISIC_0062272.jpg\n",
      "./data/augmented/val/Vascular lesions/ISIC_0063187.jpg\n",
      "./data/augmented/val/Vascular lesions/ISIC_0029930.jpg\n",
      "./data/augmented/val/Vascular lesions/ISIC_0056128.jpg\n",
      "./data/augmented/val/Vascular lesions/ISIC_0053736.jpg\n",
      "./data/augmented/val/Vascular lesions/ISIC_0055596.jpg\n",
      "./data/augmented/val/Vascular lesions/ISIC_0058924.jpg\n",
      "./data/augmented/val/Vascular lesions/ISIC_0054878.jpg\n",
      "./data/augmented/val/Vascular lesions/ISIC_0027896.jpg\n",
      "./data/augmented/val/Vascular lesions/ISIC_0072854.jpg\n",
      "./data/augmented/val/Vascular lesions/ISIC_0061814.jpg\n",
      "./data/augmented/val/Vascular lesions/ISIC_0065125.jpg\n",
      "./data/augmented/val/Vascular lesions/ISIC_0073035.jpg\n",
      "./data/augmented/val/Vascular lesions/ISIC_0062104.jpg\n",
      "./data/augmented/val/Vascular lesions/ISIC_0069904.jpg\n",
      "./data/augmented/val/Vascular lesions/ISIC_0058273.jpg\n",
      "./data/augmented/val/Vascular lesions/ISIC_0056504.jpg\n",
      "./data/augmented/val/Vascular lesions/ISIC_0066360.jpg\n",
      "./data/augmented/val/Vascular lesions/ISIC_0064211.jpg\n",
      "./data/augmented/val/Vascular lesions/ISIC_0033413.jpg\n",
      "./data/augmented/val/Vascular lesions/ISIC_0067297.jpg\n",
      "./data/augmented/val/Vascular lesions/ISIC_0053708.jpg\n",
      "./data/augmented/val/Vascular lesions/ISIC_0060467.jpg\n",
      "./data/augmented/val/Vascular lesions/ISIC_0057778.jpg\n"
     ]
    },
    {
     "ename": "KeyboardInterrupt",
     "evalue": "",
     "output_type": "error",
     "traceback": [
      "\u001b[0;31m---------------------------------------------------------------------------\u001b[0m",
      "\u001b[0;31mKeyboardInterrupt\u001b[0m                         Traceback (most recent call last)",
      "Cell \u001b[0;32mIn[5], line 17\u001b[0m\n\u001b[1;32m     15\u001b[0m \u001b[38;5;66;03m### The .flow() command generates batches of randomly transformed images and save the results in the ./data/augmented/<sub_directory>/<data_directory> along with the original image\u001b[39;00m\n\u001b[1;32m     16\u001b[0m i \u001b[38;5;241m=\u001b[39m \u001b[38;5;241m0\u001b[39m\n\u001b[0;32m---> 17\u001b[0m \u001b[38;5;28;01mfor\u001b[39;00m batch \u001b[38;5;129;01min\u001b[39;00m datagen\u001b[38;5;241m.\u001b[39mflow(x, batch_size\u001b[38;5;241m=\u001b[39m\u001b[38;5;241m1\u001b[39m, save_to_dir\u001b[38;5;241m=\u001b[39mpath_a, save_prefix\u001b[38;5;241m=\u001b[39mfile\u001b[38;5;241m.\u001b[39msplit(\u001b[38;5;124m\"\u001b[39m\u001b[38;5;124m.\u001b[39m\u001b[38;5;124m\"\u001b[39m)[\u001b[38;5;241m0\u001b[39m], save_format\u001b[38;5;241m=\u001b[39m\u001b[38;5;124m'\u001b[39m\u001b[38;5;124mjpg\u001b[39m\u001b[38;5;124m'\u001b[39m):\n\u001b[1;32m     18\u001b[0m     i \u001b[38;5;241m+\u001b[39m\u001b[38;5;241m=\u001b[39m \u001b[38;5;241m1\u001b[39m\n\u001b[1;32m     19\u001b[0m     \u001b[38;5;28;01mif\u001b[39;00m i \u001b[38;5;241m>\u001b[39m \u001b[38;5;241m20\u001b[39m:\n",
      "File \u001b[0;32m~/miniconda3/envs/msc/lib/python3.8/site-packages/keras/src/preprocessing/image.py:156\u001b[0m, in \u001b[0;36mIterator.__next__\u001b[0;34m(self, *args, **kwargs)\u001b[0m\n\u001b[1;32m    155\u001b[0m \u001b[38;5;28;01mdef\u001b[39;00m \u001b[38;5;21m__next__\u001b[39m(\u001b[38;5;28mself\u001b[39m, \u001b[38;5;241m*\u001b[39margs, \u001b[38;5;241m*\u001b[39m\u001b[38;5;241m*\u001b[39mkwargs):\n\u001b[0;32m--> 156\u001b[0m     \u001b[38;5;28;01mreturn\u001b[39;00m \u001b[38;5;28;43mself\u001b[39;49m\u001b[38;5;241;43m.\u001b[39;49m\u001b[43mnext\u001b[49m\u001b[43m(\u001b[49m\u001b[38;5;241;43m*\u001b[39;49m\u001b[43margs\u001b[49m\u001b[43m,\u001b[49m\u001b[43m \u001b[49m\u001b[38;5;241;43m*\u001b[39;49m\u001b[38;5;241;43m*\u001b[39;49m\u001b[43mkwargs\u001b[49m\u001b[43m)\u001b[49m\n",
      "File \u001b[0;32m~/miniconda3/envs/msc/lib/python3.8/site-packages/keras/src/preprocessing/image.py:168\u001b[0m, in \u001b[0;36mIterator.next\u001b[0;34m(self)\u001b[0m\n\u001b[1;32m    165\u001b[0m     index_array \u001b[38;5;241m=\u001b[39m \u001b[38;5;28mnext\u001b[39m(\u001b[38;5;28mself\u001b[39m\u001b[38;5;241m.\u001b[39mindex_generator)\n\u001b[1;32m    166\u001b[0m \u001b[38;5;66;03m# The transformation of images is not under thread lock\u001b[39;00m\n\u001b[1;32m    167\u001b[0m \u001b[38;5;66;03m# so it can be done in parallel\u001b[39;00m\n\u001b[0;32m--> 168\u001b[0m \u001b[38;5;28;01mreturn\u001b[39;00m \u001b[38;5;28;43mself\u001b[39;49m\u001b[38;5;241;43m.\u001b[39;49m\u001b[43m_get_batches_of_transformed_samples\u001b[49m\u001b[43m(\u001b[49m\u001b[43mindex_array\u001b[49m\u001b[43m)\u001b[49m\n",
      "File \u001b[0;32m~/miniconda3/envs/msc/lib/python3.8/site-packages/keras/src/preprocessing/image.py:801\u001b[0m, in \u001b[0;36mNumpyArrayIterator._get_batches_of_transformed_samples\u001b[0;34m(self, index_array)\u001b[0m\n\u001b[1;32m    799\u001b[0m x \u001b[38;5;241m=\u001b[39m \u001b[38;5;28mself\u001b[39m\u001b[38;5;241m.\u001b[39mx[j]\n\u001b[1;32m    800\u001b[0m params \u001b[38;5;241m=\u001b[39m \u001b[38;5;28mself\u001b[39m\u001b[38;5;241m.\u001b[39mimage_data_generator\u001b[38;5;241m.\u001b[39mget_random_transform(x\u001b[38;5;241m.\u001b[39mshape)\n\u001b[0;32m--> 801\u001b[0m x \u001b[38;5;241m=\u001b[39m \u001b[38;5;28;43mself\u001b[39;49m\u001b[38;5;241;43m.\u001b[39;49m\u001b[43mimage_data_generator\u001b[49m\u001b[38;5;241;43m.\u001b[39;49m\u001b[43mapply_transform\u001b[49m\u001b[43m(\u001b[49m\n\u001b[1;32m    802\u001b[0m \u001b[43m    \u001b[49m\u001b[43mx\u001b[49m\u001b[38;5;241;43m.\u001b[39;49m\u001b[43mastype\u001b[49m\u001b[43m(\u001b[49m\u001b[38;5;28;43mself\u001b[39;49m\u001b[38;5;241;43m.\u001b[39;49m\u001b[43mdtype\u001b[49m\u001b[43m)\u001b[49m\u001b[43m,\u001b[49m\u001b[43m \u001b[49m\u001b[43mparams\u001b[49m\n\u001b[1;32m    803\u001b[0m \u001b[43m\u001b[49m\u001b[43m)\u001b[49m\n\u001b[1;32m    804\u001b[0m x \u001b[38;5;241m=\u001b[39m \u001b[38;5;28mself\u001b[39m\u001b[38;5;241m.\u001b[39mimage_data_generator\u001b[38;5;241m.\u001b[39mstandardize(x)\n\u001b[1;32m    805\u001b[0m batch_x[i] \u001b[38;5;241m=\u001b[39m x\n",
      "File \u001b[0;32m~/miniconda3/envs/msc/lib/python3.8/site-packages/keras/src/preprocessing/image.py:2011\u001b[0m, in \u001b[0;36mImageDataGenerator.apply_transform\u001b[0;34m(self, x, transform_parameters)\u001b[0m\n\u001b[1;32m   2008\u001b[0m img_col_axis \u001b[38;5;241m=\u001b[39m \u001b[38;5;28mself\u001b[39m\u001b[38;5;241m.\u001b[39mcol_axis \u001b[38;5;241m-\u001b[39m \u001b[38;5;241m1\u001b[39m\n\u001b[1;32m   2009\u001b[0m img_channel_axis \u001b[38;5;241m=\u001b[39m \u001b[38;5;28mself\u001b[39m\u001b[38;5;241m.\u001b[39mchannel_axis \u001b[38;5;241m-\u001b[39m \u001b[38;5;241m1\u001b[39m\n\u001b[0;32m-> 2011\u001b[0m x \u001b[38;5;241m=\u001b[39m \u001b[43mapply_affine_transform\u001b[49m\u001b[43m(\u001b[49m\n\u001b[1;32m   2012\u001b[0m \u001b[43m    \u001b[49m\u001b[43mx\u001b[49m\u001b[43m,\u001b[49m\n\u001b[1;32m   2013\u001b[0m \u001b[43m    \u001b[49m\u001b[43mtransform_parameters\u001b[49m\u001b[38;5;241;43m.\u001b[39;49m\u001b[43mget\u001b[49m\u001b[43m(\u001b[49m\u001b[38;5;124;43m\"\u001b[39;49m\u001b[38;5;124;43mtheta\u001b[39;49m\u001b[38;5;124;43m\"\u001b[39;49m\u001b[43m,\u001b[49m\u001b[43m \u001b[49m\u001b[38;5;241;43m0\u001b[39;49m\u001b[43m)\u001b[49m\u001b[43m,\u001b[49m\n\u001b[1;32m   2014\u001b[0m \u001b[43m    \u001b[49m\u001b[43mtransform_parameters\u001b[49m\u001b[38;5;241;43m.\u001b[39;49m\u001b[43mget\u001b[49m\u001b[43m(\u001b[49m\u001b[38;5;124;43m\"\u001b[39;49m\u001b[38;5;124;43mtx\u001b[39;49m\u001b[38;5;124;43m\"\u001b[39;49m\u001b[43m,\u001b[49m\u001b[43m \u001b[49m\u001b[38;5;241;43m0\u001b[39;49m\u001b[43m)\u001b[49m\u001b[43m,\u001b[49m\n\u001b[1;32m   2015\u001b[0m \u001b[43m    \u001b[49m\u001b[43mtransform_parameters\u001b[49m\u001b[38;5;241;43m.\u001b[39;49m\u001b[43mget\u001b[49m\u001b[43m(\u001b[49m\u001b[38;5;124;43m\"\u001b[39;49m\u001b[38;5;124;43mty\u001b[39;49m\u001b[38;5;124;43m\"\u001b[39;49m\u001b[43m,\u001b[49m\u001b[43m \u001b[49m\u001b[38;5;241;43m0\u001b[39;49m\u001b[43m)\u001b[49m\u001b[43m,\u001b[49m\n\u001b[1;32m   2016\u001b[0m \u001b[43m    \u001b[49m\u001b[43mtransform_parameters\u001b[49m\u001b[38;5;241;43m.\u001b[39;49m\u001b[43mget\u001b[49m\u001b[43m(\u001b[49m\u001b[38;5;124;43m\"\u001b[39;49m\u001b[38;5;124;43mshear\u001b[39;49m\u001b[38;5;124;43m\"\u001b[39;49m\u001b[43m,\u001b[49m\u001b[43m \u001b[49m\u001b[38;5;241;43m0\u001b[39;49m\u001b[43m)\u001b[49m\u001b[43m,\u001b[49m\n\u001b[1;32m   2017\u001b[0m \u001b[43m    \u001b[49m\u001b[43mtransform_parameters\u001b[49m\u001b[38;5;241;43m.\u001b[39;49m\u001b[43mget\u001b[49m\u001b[43m(\u001b[49m\u001b[38;5;124;43m\"\u001b[39;49m\u001b[38;5;124;43mzx\u001b[39;49m\u001b[38;5;124;43m\"\u001b[39;49m\u001b[43m,\u001b[49m\u001b[43m \u001b[49m\u001b[38;5;241;43m1\u001b[39;49m\u001b[43m)\u001b[49m\u001b[43m,\u001b[49m\n\u001b[1;32m   2018\u001b[0m \u001b[43m    \u001b[49m\u001b[43mtransform_parameters\u001b[49m\u001b[38;5;241;43m.\u001b[39;49m\u001b[43mget\u001b[49m\u001b[43m(\u001b[49m\u001b[38;5;124;43m\"\u001b[39;49m\u001b[38;5;124;43mzy\u001b[39;49m\u001b[38;5;124;43m\"\u001b[39;49m\u001b[43m,\u001b[49m\u001b[43m \u001b[49m\u001b[38;5;241;43m1\u001b[39;49m\u001b[43m)\u001b[49m\u001b[43m,\u001b[49m\n\u001b[1;32m   2019\u001b[0m \u001b[43m    \u001b[49m\u001b[43mrow_axis\u001b[49m\u001b[38;5;241;43m=\u001b[39;49m\u001b[43mimg_row_axis\u001b[49m\u001b[43m,\u001b[49m\n\u001b[1;32m   2020\u001b[0m \u001b[43m    \u001b[49m\u001b[43mcol_axis\u001b[49m\u001b[38;5;241;43m=\u001b[39;49m\u001b[43mimg_col_axis\u001b[49m\u001b[43m,\u001b[49m\n\u001b[1;32m   2021\u001b[0m \u001b[43m    \u001b[49m\u001b[43mchannel_axis\u001b[49m\u001b[38;5;241;43m=\u001b[39;49m\u001b[43mimg_channel_axis\u001b[49m\u001b[43m,\u001b[49m\n\u001b[1;32m   2022\u001b[0m \u001b[43m    \u001b[49m\u001b[43mfill_mode\u001b[49m\u001b[38;5;241;43m=\u001b[39;49m\u001b[38;5;28;43mself\u001b[39;49m\u001b[38;5;241;43m.\u001b[39;49m\u001b[43mfill_mode\u001b[49m\u001b[43m,\u001b[49m\n\u001b[1;32m   2023\u001b[0m \u001b[43m    \u001b[49m\u001b[43mcval\u001b[49m\u001b[38;5;241;43m=\u001b[39;49m\u001b[38;5;28;43mself\u001b[39;49m\u001b[38;5;241;43m.\u001b[39;49m\u001b[43mcval\u001b[49m\u001b[43m,\u001b[49m\n\u001b[1;32m   2024\u001b[0m \u001b[43m    \u001b[49m\u001b[43morder\u001b[49m\u001b[38;5;241;43m=\u001b[39;49m\u001b[38;5;28;43mself\u001b[39;49m\u001b[38;5;241;43m.\u001b[39;49m\u001b[43minterpolation_order\u001b[49m\u001b[43m,\u001b[49m\n\u001b[1;32m   2025\u001b[0m \u001b[43m\u001b[49m\u001b[43m)\u001b[49m\n\u001b[1;32m   2027\u001b[0m \u001b[38;5;28;01mif\u001b[39;00m transform_parameters\u001b[38;5;241m.\u001b[39mget(\u001b[38;5;124m\"\u001b[39m\u001b[38;5;124mchannel_shift_intensity\u001b[39m\u001b[38;5;124m\"\u001b[39m) \u001b[38;5;129;01mis\u001b[39;00m \u001b[38;5;129;01mnot\u001b[39;00m \u001b[38;5;28;01mNone\u001b[39;00m:\n\u001b[1;32m   2028\u001b[0m     x \u001b[38;5;241m=\u001b[39m apply_channel_shift(\n\u001b[1;32m   2029\u001b[0m         x,\n\u001b[1;32m   2030\u001b[0m         transform_parameters[\u001b[38;5;124m\"\u001b[39m\u001b[38;5;124mchannel_shift_intensity\u001b[39m\u001b[38;5;124m\"\u001b[39m],\n\u001b[1;32m   2031\u001b[0m         img_channel_axis,\n\u001b[1;32m   2032\u001b[0m     )\n",
      "File \u001b[0;32m~/miniconda3/envs/msc/lib/python3.8/site-packages/keras/src/preprocessing/image.py:2609\u001b[0m, in \u001b[0;36mapply_affine_transform\u001b[0;34m(x, theta, tx, ty, shear, zx, zy, row_axis, col_axis, channel_axis, fill_mode, cval, order)\u001b[0m\n\u001b[1;32m   2606\u001b[0m final_affine_matrix \u001b[38;5;241m=\u001b[39m transform_matrix[:\u001b[38;5;241m2\u001b[39m, :\u001b[38;5;241m2\u001b[39m]\n\u001b[1;32m   2607\u001b[0m final_offset \u001b[38;5;241m=\u001b[39m transform_matrix[:\u001b[38;5;241m2\u001b[39m, \u001b[38;5;241m2\u001b[39m]\n\u001b[0;32m-> 2609\u001b[0m channel_images \u001b[38;5;241m=\u001b[39m [\n\u001b[1;32m   2610\u001b[0m     ndimage\u001b[38;5;241m.\u001b[39minterpolation\u001b[38;5;241m.\u001b[39maffine_transform(\n\u001b[1;32m   2611\u001b[0m         x_channel,\n\u001b[1;32m   2612\u001b[0m         final_affine_matrix,\n\u001b[1;32m   2613\u001b[0m         final_offset,\n\u001b[1;32m   2614\u001b[0m         order\u001b[38;5;241m=\u001b[39morder,\n\u001b[1;32m   2615\u001b[0m         mode\u001b[38;5;241m=\u001b[39mfill_mode,\n\u001b[1;32m   2616\u001b[0m         cval\u001b[38;5;241m=\u001b[39mcval,\n\u001b[1;32m   2617\u001b[0m     )\n\u001b[1;32m   2618\u001b[0m     \u001b[38;5;28;01mfor\u001b[39;00m x_channel \u001b[38;5;129;01min\u001b[39;00m x\n\u001b[1;32m   2619\u001b[0m ]\n\u001b[1;32m   2620\u001b[0m x \u001b[38;5;241m=\u001b[39m np\u001b[38;5;241m.\u001b[39mstack(channel_images, axis\u001b[38;5;241m=\u001b[39m\u001b[38;5;241m0\u001b[39m)\n\u001b[1;32m   2621\u001b[0m x \u001b[38;5;241m=\u001b[39m np\u001b[38;5;241m.\u001b[39mrollaxis(x, \u001b[38;5;241m0\u001b[39m, channel_axis \u001b[38;5;241m+\u001b[39m \u001b[38;5;241m1\u001b[39m)\n",
      "File \u001b[0;32m~/miniconda3/envs/msc/lib/python3.8/site-packages/keras/src/preprocessing/image.py:2610\u001b[0m, in \u001b[0;36m<listcomp>\u001b[0;34m(.0)\u001b[0m\n\u001b[1;32m   2606\u001b[0m final_affine_matrix \u001b[38;5;241m=\u001b[39m transform_matrix[:\u001b[38;5;241m2\u001b[39m, :\u001b[38;5;241m2\u001b[39m]\n\u001b[1;32m   2607\u001b[0m final_offset \u001b[38;5;241m=\u001b[39m transform_matrix[:\u001b[38;5;241m2\u001b[39m, \u001b[38;5;241m2\u001b[39m]\n\u001b[1;32m   2609\u001b[0m channel_images \u001b[38;5;241m=\u001b[39m [\n\u001b[0;32m-> 2610\u001b[0m     \u001b[43mndimage\u001b[49m\u001b[38;5;241;43m.\u001b[39;49m\u001b[43minterpolation\u001b[49m\u001b[38;5;241;43m.\u001b[39;49m\u001b[43maffine_transform\u001b[49m\u001b[43m(\u001b[49m\n\u001b[1;32m   2611\u001b[0m \u001b[43m        \u001b[49m\u001b[43mx_channel\u001b[49m\u001b[43m,\u001b[49m\n\u001b[1;32m   2612\u001b[0m \u001b[43m        \u001b[49m\u001b[43mfinal_affine_matrix\u001b[49m\u001b[43m,\u001b[49m\n\u001b[1;32m   2613\u001b[0m \u001b[43m        \u001b[49m\u001b[43mfinal_offset\u001b[49m\u001b[43m,\u001b[49m\n\u001b[1;32m   2614\u001b[0m \u001b[43m        \u001b[49m\u001b[43morder\u001b[49m\u001b[38;5;241;43m=\u001b[39;49m\u001b[43morder\u001b[49m\u001b[43m,\u001b[49m\n\u001b[1;32m   2615\u001b[0m \u001b[43m        \u001b[49m\u001b[43mmode\u001b[49m\u001b[38;5;241;43m=\u001b[39;49m\u001b[43mfill_mode\u001b[49m\u001b[43m,\u001b[49m\n\u001b[1;32m   2616\u001b[0m \u001b[43m        \u001b[49m\u001b[43mcval\u001b[49m\u001b[38;5;241;43m=\u001b[39;49m\u001b[43mcval\u001b[49m\u001b[43m,\u001b[49m\n\u001b[1;32m   2617\u001b[0m \u001b[43m    \u001b[49m\u001b[43m)\u001b[49m\n\u001b[1;32m   2618\u001b[0m     \u001b[38;5;28;01mfor\u001b[39;00m x_channel \u001b[38;5;129;01min\u001b[39;00m x\n\u001b[1;32m   2619\u001b[0m ]\n\u001b[1;32m   2620\u001b[0m x \u001b[38;5;241m=\u001b[39m np\u001b[38;5;241m.\u001b[39mstack(channel_images, axis\u001b[38;5;241m=\u001b[39m\u001b[38;5;241m0\u001b[39m)\n\u001b[1;32m   2621\u001b[0m x \u001b[38;5;241m=\u001b[39m np\u001b[38;5;241m.\u001b[39mrollaxis(x, \u001b[38;5;241m0\u001b[39m, channel_axis \u001b[38;5;241m+\u001b[39m \u001b[38;5;241m1\u001b[39m)\n",
      "File \u001b[0;32m~/miniconda3/envs/msc/lib/python3.8/site-packages/scipy/ndimage/_interpolation.py:614\u001b[0m, in \u001b[0;36maffine_transform\u001b[0;34m(input, matrix, offset, output_shape, output, order, mode, cval, prefilter)\u001b[0m\n\u001b[1;32m    611\u001b[0m     _nd_image\u001b[38;5;241m.\u001b[39mzoom_shift(filtered, matrix, offset\u001b[38;5;241m/\u001b[39mmatrix, output, order,\n\u001b[1;32m    612\u001b[0m                          mode, cval, npad, \u001b[38;5;28;01mFalse\u001b[39;00m)\n\u001b[1;32m    613\u001b[0m \u001b[38;5;28;01melse\u001b[39;00m:\n\u001b[0;32m--> 614\u001b[0m     \u001b[43m_nd_image\u001b[49m\u001b[38;5;241;43m.\u001b[39;49m\u001b[43mgeometric_transform\u001b[49m\u001b[43m(\u001b[49m\u001b[43mfiltered\u001b[49m\u001b[43m,\u001b[49m\u001b[43m \u001b[49m\u001b[38;5;28;43;01mNone\u001b[39;49;00m\u001b[43m,\u001b[49m\u001b[43m \u001b[49m\u001b[38;5;28;43;01mNone\u001b[39;49;00m\u001b[43m,\u001b[49m\u001b[43m \u001b[49m\u001b[43mmatrix\u001b[49m\u001b[43m,\u001b[49m\u001b[43m \u001b[49m\u001b[43moffset\u001b[49m\u001b[43m,\u001b[49m\n\u001b[1;32m    615\u001b[0m \u001b[43m                                  \u001b[49m\u001b[43moutput\u001b[49m\u001b[43m,\u001b[49m\u001b[43m \u001b[49m\u001b[43morder\u001b[49m\u001b[43m,\u001b[49m\u001b[43m \u001b[49m\u001b[43mmode\u001b[49m\u001b[43m,\u001b[49m\u001b[43m \u001b[49m\u001b[43mcval\u001b[49m\u001b[43m,\u001b[49m\u001b[43m \u001b[49m\u001b[43mnpad\u001b[49m\u001b[43m,\u001b[49m\u001b[43m \u001b[49m\u001b[38;5;28;43;01mNone\u001b[39;49;00m\u001b[43m,\u001b[49m\n\u001b[1;32m    616\u001b[0m \u001b[43m                                  \u001b[49m\u001b[38;5;28;43;01mNone\u001b[39;49;00m\u001b[43m)\u001b[49m\n\u001b[1;32m    617\u001b[0m \u001b[38;5;28;01mreturn\u001b[39;00m output\n",
      "\u001b[0;31mKeyboardInterrupt\u001b[0m: "
     ]
    }
   ],
   "source": [
    "## ✨ Generate Images\n",
    "\n",
    "for data_directory in DATA_DIRECTORIES:\n",
    "    for sub_directory in SUB_DIRECTORIES:\n",
    "        path_o = os.path.join(ORIGINAL_DATA_PATH, sub_directory, data_directory)\n",
    "        path_a = os.path.join(AUGMENTED_DATA_PATH, sub_directory, data_directory)\n",
    "        files = os.listdir(path_o)\n",
    "        for index, file in enumerate(files):\n",
    "            if DS_STORE in file: ### Skip .DS_Store file\n",
    "                continue\n",
    "            print(f'{path_o}/{file}') ### Print the pathname and file name to get an idea about the processing file\n",
    "            img = load_img(str(os.path.join(path_o, file))) ### This is a PIL image\n",
    "            x = img_to_array(img) ### This is a NumPy array with shape (3, 150, 150)\n",
    "            x = x.reshape((1,) + x.shape) ### This is a NumPy array with shape (1, 3, 150, 150)\n",
    "            ### The .flow() command generates batches of randomly transformed images and save the results in the ./data/augmented/<sub_directory>/<data_directory> along with the original image\n",
    "            i = 0\n",
    "            for batch in datagen.flow(x, batch_size=1, save_to_dir=path_a, save_prefix=file.split(\".\")[0], save_format='jpg'):\n",
    "                i += 1\n",
    "                if i > 20:\n",
    "                    break ### Stop looping the generator infinitely\n",
    "            ### Save the original image in ./data/augmented/<sub_directory>/<data_directory> as well\n",
    "            shutil.copy(os.path.join(path_o, file), path_a)    "
   ]
  },
  {
   "cell_type": "markdown",
   "id": "39261e85-74ed-44ef-a2dd-182553227714",
   "metadata": {},
   "source": [
    "## 📚 References"
   ]
  },
  {
   "cell_type": "markdown",
   "id": "63163466-8bfb-4580-a121-3945d4ef6be4",
   "metadata": {},
   "source": [
    "1. [Prachi Gopalani Medium Blog](https://medium.com/analytics-vidhya/image-augmentation-using-keras-99072b490c72#:~:text=Keras%20Image%20Augmentation%20API%3A%20ImageDataGenerator,a%20new%20batch%20for%20training.)\n",
    "2. [Keras Blog](https://blog.keras.io/building-powerful-image-classification-models-using-very-little-data.html)"
   ]
  },
  {
   "cell_type": "code",
   "execution_count": null,
   "id": "e2287c25-092a-41f4-a83a-95c7fe976b48",
   "metadata": {},
   "outputs": [],
   "source": []
  }
 ],
 "metadata": {
  "kernelspec": {
   "display_name": "Python 3 (ipykernel)",
   "language": "python",
   "name": "python3"
  },
  "language_info": {
   "codemirror_mode": {
    "name": "ipython",
    "version": 3
   },
   "file_extension": ".py",
   "mimetype": "text/x-python",
   "name": "python",
   "nbconvert_exporter": "python",
   "pygments_lexer": "ipython3",
   "version": "3.8.18"
  }
 },
 "nbformat": 4,
 "nbformat_minor": 5
}
