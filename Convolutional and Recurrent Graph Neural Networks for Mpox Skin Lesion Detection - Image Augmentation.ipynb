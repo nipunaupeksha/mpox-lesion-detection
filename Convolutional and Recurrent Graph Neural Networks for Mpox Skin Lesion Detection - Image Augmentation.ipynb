{
 "cells": [
  {
   "cell_type": "markdown",
   "id": "a68afba7-8ecf-48f6-820e-58c4d0d0dc2b",
   "metadata": {},
   "source": [
    "# 🎨 Image Augmentation"
   ]
  },
  {
   "cell_type": "markdown",
   "id": "311034d3-67b1-4d1a-950f-973c3e872258",
   "metadata": {},
   "source": [
    "Data preparation is a crucial task when working with neural networks and deep learning models. Therefore, when preparing data, data augmentation is used to increase the amount of data. In other words, having a large dataset allows you to have a larger dataset which in return gives you a more robust model. \n",
    "\n",
    "However acquiring more data is not easy and there can be problems of storing them and feeding it to the model. To mitigate this issue, we can either increase the data manually be doing some changes or we can use one of Keras image pre-processing classes to increase the number of images."
   ]
  },
  {
   "cell_type": "markdown",
   "id": "c3686de8-35b0-443e-ad9b-fd58a13ca406",
   "metadata": {},
   "source": [
    "## 🗂️ Import Libraries\n",
    "The following code block imports all the libraries that are necessary for our development purposes.\n",
    "\n",
    "#### 🧠 `keras`\n",
    "- Keras is a high-level deep learning library in Python that simplifies the creation and training of neural networks by providing an intuitive interface to underlying frameworks like TensorFlow.\n",
    "\n",
    "#### ⚡ `tensorflow`\n",
    "- TensorFlow is an open-source library designed for building and deploying machine learning and deep learning models, offering a flexible ecosystem for numerical computation and AI development.\n",
    "\n",
    "#### 💻 `os`\n",
    "- The os library in Python provides a way to interact with the operating system, enabling tasks such as file and directory manipulation, environment variable access, and process management.\n",
    "\n",
    "#### 📄 `shutil`\n",
    "- The shutil library in Python provides a suite of functions for high-level file operations, including copying, moving, renaming, and deleting files and directories."
   ]
  },
  {
   "cell_type": "code",
   "execution_count": 5,
   "id": "c1a8910a-5418-4208-8d84-e3fe5c2be37e",
   "metadata": {},
   "outputs": [],
   "source": [
    "## 🗂️ Import libraries\n",
    "\n",
    "from keras.preprocessing.image import ImageDataGenerator\n",
    "from tensorflow.keras.utils import img_to_array, array_to_img, img_to_array, load_img\n",
    "import os\n",
    "import shutil"
   ]
  },
  {
   "cell_type": "markdown",
   "id": "604e00d9-3b7d-4e51-b52d-6075087e2873",
   "metadata": {},
   "source": [
    "## ♾️ Constants\n",
    "While proceeding with image augementation process, we need some constants that may refer the directory paths, image category names, data generation properties, etc."
   ]
  },
  {
   "cell_type": "code",
   "execution_count": 23,
   "id": "143c78f8-a1de-47f2-bd9b-1fbac5cbd93c",
   "metadata": {},
   "outputs": [],
   "source": [
    "## ♾️ Constants\n",
    "\n",
    "### Directory Paths\n",
    "ORIGINAL_DATA_PATH = './data/original'\n",
    "AUGMENTED_DATA_PATH = './data/augmented'\n",
    "TRAIN_DIRECTORY = 'train'\n",
    "TEST_DIRECTORY = 'test'\n",
    "VALIDATION_DIRECTORY = 'val'\n",
    "\n",
    "### Directories containing the images\n",
    "SUB_DIRECTORIES = [TRAIN_DIRECTORY, TEST_DIRECTORY, VALIDATION_DIRECTORY]\n",
    "DATA_DIRECTORIES = ['Actinic keratoses', 'Basal cell carcinoma', 'Benign keratosis-like lesions', 'Chickenpox', 'Cowpox', 'Dermatofibroma', 'Healthy', 'HFMD', 'Measles', 'Melanocytic nevi', 'Melanoma', 'Monkeypox', 'Squamous cell carcinoma', 'Vascular lesions']\n",
    "\n",
    "### Data generation properties\n",
    "ROTATION_RANGE = 40\n",
    "WIDTH_SHIFT_RANGE = 0.2\n",
    "HEIGHT_SHIFT_RANGE = 0.2\n",
    "SHEAR_RANGE = 0.2\n",
    "ZOOM_RANGE = 0.2\n",
    "HORIZONTAL_FLIP = True\n",
    "FILL_MODE = 'nearest'"
   ]
  },
  {
   "cell_type": "markdown",
   "id": "1448e669-c900-4142-a3e7-307660bddd4a",
   "metadata": {},
   "source": [
    "## 💾 Define Data Generation Properties\n",
    "Next, we need to define data-gen properties. This way more data is generated according to the parameters we define. The parameters we will be using for this are as follows.\n",
    "\n",
    "- ↻ `rotation_range`\n",
    "    - Specifies the range(in degrees) within which the image is randomly rotated.\n",
    "    - For example, a value of `40` means the image can be rotated randomly by up to `40` degrees in either direction(clockwise or counterclockwise).<br><br>\n",
    "    \n",
    "- ↔ `width_shift_range`\n",
    "    - Specifies the fraction of the total width of the image by which it can be randomly shifted horizontally.\n",
    "    - For example, a value of `0.2` allows a horizontal shift of up to `20%` of the image's width.<br><br>\n",
    "    \n",
    "- ↕ `height_shift_range`\n",
    "    - Specifies the fraction of the total height of the image by which it can be randomly shifted vertically.\n",
    "    - For example, a value of `0.2` allows a vertical shift of up to `20%` of the image's height.<br><br>\n",
    "  \n",
    "- ➤ `shear_range`\n",
    "    - Specifies the intensity of shear transformation as a shear angle in a counterclockwise direction in degrees.\n",
    "    - A shear transformation distorts the image along an axis creating a parallelogram effect.<br><br>\n",
    "\n",
    "- 🔎 `zoom_range`\n",
    "   - Specifies the range for random zoom. It can zoom in or out within this range.\n",
    "   - For example, a value of `0.2` means the image size can be varied randomly by up to `±20%`.<br><br>\n",
    "\n",
    "- ― `horizontal_flip`\n",
    "   - Specifies whether the image should be flipped horizontally.\n",
    "   - If `True`, the image is randomly flipped along the horizontal axis, mirroring it.<br><br>\n",
    "\n",
    "- 🚰 `fill_mode`\n",
    "   - Specifies the strategy for filling in pixels that are introduced during transformations.\n",
    "   - The value `nearest` means the nearest pixel values are used to fill these gaps."
   ]
  },
  {
   "cell_type": "code",
   "execution_count": 8,
   "id": "41a803d0-6231-4ef1-af12-b0d68dc9bc34",
   "metadata": {},
   "outputs": [],
   "source": [
    "## 💾 Define Data Generation Properties\n",
    "\n",
    "datagen = ImageDataGenerator(\n",
    "    rotation_range=ROTATION_RANGE,\n",
    "    width_shift_range=WIDTH_SHIFT_RANGE,\n",
    "    height_shift_range=HEIGHT_SHIFT_RANGE,\n",
    "    shear_range=SHEAR_RANGE,\n",
    "    zoom_range=ZOOM_RANGE,\n",
    "    horizontal_flip=HORIZONTAL_FLIP,\n",
    "    fill_mode=FILL_MODE)"
   ]
  },
  {
   "cell_type": "markdown",
   "id": "702facd0-624f-455c-9db2-e326ef8c9abf",
   "metadata": {},
   "source": [
    "## 📂 Create Directories to Store the Augmented Images"
   ]
  },
  {
   "cell_type": "markdown",
   "id": "ac8bf070-cc3c-42a2-b9c3-4bd5f473b7a7",
   "metadata": {},
   "source": [
    "Since our original data is presented in the following way, we need to create augmented images for all, `train`, `test`, and `val`(`validation`) directories. \n",
    "\n",
    "```\n",
    "data\n",
    " └── original\n",
    "       ├── test\n",
    "       ├── train\n",
    "       └── val\n",
    "```\n",
    "\n",
    "Therefore, we need to have a separate directory to hold the augmented images.\n",
    "\n",
    "```\n",
    "data\n",
    " └── augmented\n",
    "       ├── test\n",
    "       ├── train\n",
    "       └── val\n",
    " └── original\n",
    "       ├── test\n",
    "       ├── train\n",
    "       └── val\n",
    "```\n",
    "\n",
    "\n",
    "Also, we will only be using the augmented images for training our models. However, image augmentation is a unilateral task from training the models. Therefore, having all the images augmented in one go will make our development easier."
   ]
  },
  {
   "cell_type": "code",
   "execution_count": 24,
   "id": "77d0ab9f-4924-46dc-9251-cd81a2f3e22b",
   "metadata": {},
   "outputs": [],
   "source": [
    "## 📂 Create Directories to Store the Augmented Images\n",
    "\n",
    "### Create train, test, and val directories\n",
    "for sub_directory in SUB_DIRECTORIES:\n",
    "    path = AUGMENTED_DATA_PATH\n",
    "    path = os.path.join(path, sub_directory)\n",
    "    os.mkdir(path)\n",
    "\n",
    "### Create data directories inside of the train, test, and val directories\n",
    "for data_directory in DATA_DIRECTORIES:\n",
    "    for sub_directory in SUB_DIRECTORIES:\n",
    "        path = AUGMENTED_DATA_PATH\n",
    "        path = os.path.join(path, sub_directory, data_directory)\n",
    "        os.mkdir(path)"
   ]
  },
  {
   "cell_type": "markdown",
   "id": "fda1d35f-cfac-4782-9ed9-c04caed8085c",
   "metadata": {},
   "source": [
    "## ✨ Generate Images"
   ]
  },
  {
   "cell_type": "code",
   "execution_count": null,
   "id": "ea36c065-0afa-42c0-adef-0b68d7f635d0",
   "metadata": {},
   "outputs": [],
   "source": []
  },
  {
   "cell_type": "code",
   "execution_count": null,
   "id": "9b5806b1-32d8-49bc-877a-8e4a363877df",
   "metadata": {},
   "outputs": [],
   "source": [
    "## ✨ Generate Images"
   ]
  }
 ],
 "metadata": {
  "kernelspec": {
   "display_name": "Python 3 (ipykernel)",
   "language": "python",
   "name": "python3"
  },
  "language_info": {
   "codemirror_mode": {
    "name": "ipython",
    "version": 3
   },
   "file_extension": ".py",
   "mimetype": "text/x-python",
   "name": "python",
   "nbconvert_exporter": "python",
   "pygments_lexer": "ipython3",
   "version": "3.8.18"
  }
 },
 "nbformat": 4,
 "nbformat_minor": 5
}
