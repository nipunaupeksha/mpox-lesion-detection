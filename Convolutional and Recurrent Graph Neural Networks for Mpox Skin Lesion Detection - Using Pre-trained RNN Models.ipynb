{
 "cells": [
  {
   "cell_type": "code",
   "execution_count": null,
   "id": "2c053e8d-353a-4eed-85f7-fb25a0262389",
   "metadata": {},
   "outputs": [],
   "source": [
    "import tensorflow as tf\n",
    "from tensorflow.keras import layers, models\n",
    "from sklearn.preprocessing import LabelEncoder\n",
    "from sklearn.metrics import classification_report\n",
    "import matplotlib.pyplot as plt\n",
    "import pandas as pd\n",
    "import numpy as np\n",
    "from pathlib import Path\n",
    "import random\n",
    "import os"
   ]
  },
  {
   "cell_type": "code",
   "execution_count": null,
   "id": "986efa5a-02f1-4c9b-9b0c-e884e331a255",
   "metadata": {},
   "outputs": [],
   "source": [
    "\n",
    "### Directory paths\n",
    "DATA_PATH = './data/original'\n",
    "AUGMENTED_PATH = './data/rnn_augmented'\n",
    "RNN_BALANCED_PATH = './data/rnn_balanced'\n",
    "MODELS_PATH = './models/rnn'\n",
    "\n",
    "TRAIN_DIRECTORY='train'\n",
    "TEST_DIRECTORY='test'\n",
    "VALIDATION_DIRECTORY ='val'\n",
    "\n",
    "### Sample Values\n",
    "TRAIN_DATASET_SAMPLE_COUNT=1000\n",
    "TEST_DATASET_SAMPLE_COUNT=200\n",
    "VALIDATION_DATASET_SAMPLE_COUNT=200\n",
    "\n",
    "### Directories containing the images\n",
    "SUB_DIRECTORIES = [TRAIN_DIRECTORY, TEST_DIRECTORY, VALIDATION_DIRECTORY]\n",
    "DATA_DIRECTORIES = ['Actinic keratoses', 'Basal cell carcinoma', 'Benign keratosis-like lesions', 'Chickenpox', 'Cowpox', 'Dermatofibroma', 'Healthy', 'HFMD', 'Measles', 'Melanocytic nevi', 'Melanoma', 'Monkeypox', 'Squamous cell carcinoma', 'Vascular lesions']\n",
    "\n",
    "### Data generation properties\n",
    "ROTATION_RANGE = 40\n",
    "WIDTH_SHIFT_RANGE = 0.2\n",
    "HEIGHT_SHIFT_RANGE = 0.2\n",
    "SHEAR_RANGE = 0.2\n",
    "ZOOM_RANGE = 0.2\n",
    "HORIZONTAL_FLIP = True\n",
    "FILL_MODE = 'nearest'"
   ]
  },
  {
   "cell_type": "code",
   "execution_count": null,
   "id": "bc797496-a5e3-4900-b401-fba8aa7071de",
   "metadata": {},
   "outputs": [],
   "source": [
    "### This method is used to get the number of images in each of the directories in our dataset\n",
    "\n",
    "def count_images(dir_name):\n",
    "    for dataset_type in SUB_DIRECTORIES:\n",
    "        dir_type = os.path.join(dir_name, dataset_type)\n",
    "        print(f\"{dataset_type}\")\n",
    "        print(\"----------------------------\")\n",
    "        for category in os.listdir(dir_type):\n",
    "            category_path = os.path.join(dir_type, category)\n",
    "            if not os.path.isdir(category_path):\n",
    "                continue\n",
    "            images = [img for img in os.listdir(category_path) if img.endswith(('jpg', 'jpeg'))]\n",
    "            print(f\"Number of images in {category_path.split('/')[-1]}: {len(images)}\")\n",
    "        print(\"\")"
   ]
  },
  {
   "cell_type": "code",
   "execution_count": null,
   "id": "cd17377a-340c-4af3-9f7c-12d9d7161fc7",
   "metadata": {},
   "outputs": [],
   "source": [
    "### Execute the method\n",
    "\n",
    "count_images(DATA_PATH)"
   ]
  },
  {
   "cell_type": "code",
   "execution_count": null,
   "id": "f17f800a-b83b-4996-a42b-7b3052144309",
   "metadata": {},
   "outputs": [],
   "source": [
    "### Image augmentation that lack the image count"
   ]
  },
  {
   "cell_type": "code",
   "execution_count": null,
   "id": "acb7acda-279f-4f0a-89cf-711ef9a6bee1",
   "metadata": {},
   "outputs": [],
   "source": [
    "def load_images_to_df(base_path, dataset_type, sample_size):\n",
    "    path = os.path.join(base_path, dataset_path)\n",
    "    image_dir = Path(path)\n",
    "\n",
    "    file_paths = list(image_dir.glob(r'**/*.jpg'))\n",
    "    labels = list(map(lambda x: os.path.split(os.path.split(x)[0])[1], file_paths))\n",
    "\n",
    "    file_paths = pd.Series(file_paths, name='Path').astype(str)\n",
    "    labels = pd.Series(labels, name='Label')\n",
    "\n",
    "    image_df = pd.concat([file_paths, labels], axis=1)\n",
    "\n",
    "    samples =[]\n",
    "    for record in image_df['Label'].unique():\n",
    "        samples.append(image_df[image_df['Label'] == record].sample(sample_size, random_state=42))\n",
    "    image_df = pd.concat(samples, axis=0).sample(frac=1.0, random_state=42).reset_index(drop=True)\n",
    "\n",
    "    return image_df"
   ]
  },
  {
   "cell_type": "code",
   "execution_count": null,
   "id": "6fd29e36-64c2-45fb-9012-0271168a4b12",
   "metadata": {},
   "outputs": [],
   "source": [
    "image_df_train = load_images_to_df(DATA_PATH, TRAIN_DIRECTORY, TRAIN_DATASET_SAMPLE_COUNT)"
   ]
  },
  {
   "cell_type": "code",
   "execution_count": null,
   "id": "c7da62c1-eca5-4b6f-919f-2caf9cd656ec",
   "metadata": {},
   "outputs": [],
   "source": []
  },
  {
   "cell_type": "code",
   "execution_count": null,
   "id": "b8dbf80e-aefe-4513-af1d-1a78ff151a74",
   "metadata": {},
   "outputs": [],
   "source": []
  },
  {
   "cell_type": "code",
   "execution_count": null,
   "id": "6487c160-62ec-48b8-9e39-f66f10b38846",
   "metadata": {},
   "outputs": [],
   "source": []
  },
  {
   "cell_type": "code",
   "execution_count": null,
   "id": "9e81ad15-ffbc-4a46-bf03-4e7e2b8e338c",
   "metadata": {},
   "outputs": [],
   "source": []
  },
  {
   "cell_type": "code",
   "execution_count": null,
   "id": "914581df-2a55-44b8-925b-7eded3a24b7f",
   "metadata": {},
   "outputs": [],
   "source": []
  },
  {
   "cell_type": "code",
   "execution_count": null,
   "id": "f7cdc555-d05b-4aac-a2bd-f09d493b584d",
   "metadata": {},
   "outputs": [],
   "source": []
  },
  {
   "cell_type": "code",
   "execution_count": null,
   "id": "e62b0f84-379f-4e4e-919c-789f0dc424c8",
   "metadata": {},
   "outputs": [],
   "source": []
  },
  {
   "cell_type": "code",
   "execution_count": null,
   "id": "4568a0e5-692e-42bf-b6e3-bc3bbde8a551",
   "metadata": {},
   "outputs": [],
   "source": []
  },
  {
   "cell_type": "code",
   "execution_count": null,
   "id": "939485fa-46cc-4413-ad87-a90fa8fe8f3d",
   "metadata": {},
   "outputs": [],
   "source": []
  },
  {
   "cell_type": "code",
   "execution_count": null,
   "id": "98a29dc8-1f21-4cb5-a7e8-5b87d9643cb3",
   "metadata": {},
   "outputs": [],
   "source": []
  },
  {
   "cell_type": "code",
   "execution_count": null,
   "id": "4c8a0110-2f02-41cb-9fdc-b95ac7660c42",
   "metadata": {},
   "outputs": [],
   "source": []
  },
  {
   "cell_type": "code",
   "execution_count": null,
   "id": "db3a4bee-99b7-4d2f-8efd-41648e1e6259",
   "metadata": {},
   "outputs": [],
   "source": []
  },
  {
   "cell_type": "code",
   "execution_count": null,
   "id": "db1b530d-f12e-4bdd-85e4-f19f7472467e",
   "metadata": {},
   "outputs": [],
   "source": []
  },
  {
   "cell_type": "code",
   "execution_count": null,
   "id": "647a0d24-d28a-4622-8c5e-c508b311ed92",
   "metadata": {},
   "outputs": [],
   "source": []
  },
  {
   "cell_type": "code",
   "execution_count": null,
   "id": "0704a5df-8055-49a3-bb4c-342286999f75",
   "metadata": {},
   "outputs": [],
   "source": []
  },
  {
   "cell_type": "code",
   "execution_count": null,
   "id": "5a209aa4-24b4-4278-b63d-1c3d5211a4f6",
   "metadata": {},
   "outputs": [],
   "source": []
  },
  {
   "cell_type": "code",
   "execution_count": null,
   "id": "6b532e82-c106-4a0d-bb18-1d137387f16f",
   "metadata": {},
   "outputs": [],
   "source": []
  },
  {
   "cell_type": "code",
   "execution_count": null,
   "id": "58ffef56-6b54-4a70-a4d6-df9c8e5bd10f",
   "metadata": {},
   "outputs": [],
   "source": []
  },
  {
   "cell_type": "code",
   "execution_count": null,
   "id": "7042be99-c6a8-4c68-baed-87ae8bfade52",
   "metadata": {},
   "outputs": [],
   "source": []
  },
  {
   "cell_type": "code",
   "execution_count": null,
   "id": "32e648e1-9b86-4671-9943-902d6f1ee195",
   "metadata": {},
   "outputs": [],
   "source": []
  },
  {
   "cell_type": "code",
   "execution_count": null,
   "id": "f6088b29-3fbc-4888-a908-0e1ffd31667d",
   "metadata": {},
   "outputs": [],
   "source": []
  },
  {
   "cell_type": "code",
   "execution_count": null,
   "id": "c5b77ce4-f6c1-4558-b329-7676038eca6b",
   "metadata": {},
   "outputs": [],
   "source": []
  },
  {
   "cell_type": "code",
   "execution_count": null,
   "id": "1ef08ae7-213e-4acc-a1c7-f165f3a28b98",
   "metadata": {},
   "outputs": [],
   "source": []
  },
  {
   "cell_type": "code",
   "execution_count": null,
   "id": "3eb0a628-9709-48a0-913d-92ec26b0778f",
   "metadata": {},
   "outputs": [],
   "source": []
  }
 ],
 "metadata": {
  "kernelspec": {
   "display_name": "Python 3 (ipykernel)",
   "language": "python",
   "name": "python3"
  },
  "language_info": {
   "codemirror_mode": {
    "name": "ipython",
    "version": 3
   },
   "file_extension": ".py",
   "mimetype": "text/x-python",
   "name": "python",
   "nbconvert_exporter": "python",
   "pygments_lexer": "ipython3",
   "version": "3.8.18"
  }
 },
 "nbformat": 4,
 "nbformat_minor": 5
}
