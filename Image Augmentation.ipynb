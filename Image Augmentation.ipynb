{
 "cells": [
  {
   "cell_type": "code",
   "execution_count": null,
   "id": "0c821dbb-6e36-447a-a53a-410f38555cf5",
   "metadata": {},
   "outputs": [],
   "source": [
    "from keras.preprocessing.image import ImageDataGenerator\n",
    "from tensorflow.keras.utils import img_to_array, array_to_img, img_to_array, load_img\n",
    "import os\n",
    "import random\n",
    "import math\n",
    "import shutil"
   ]
  },
  {
   "cell_type": "code",
   "execution_count": null,
   "id": "e62a1a07-8532-4409-beb8-1792443a14de",
   "metadata": {},
   "outputs": [],
   "source": [
    "ORIGINAL_DATA_PATH = './data/original_images'\n",
    "AUGMENTED_DATA_PATH = './data/augmented_images'\n",
    "BALANCED_DATA_PATH = './data/balanced_images'\n",
    "SPLIT_DATA_PATH = './data/images'\n",
    "\n",
    "CATEGORY_DIRECTORIES = ['Chickenpox', 'Cowpox', 'Healthy', 'HFMD', 'Measles', 'Monkeypox']\n",
    "\n",
    "TRAIN_RATIO = 0.8\n",
    "TEST_RATIO = 0.1\n",
    "VAL_RATIO = 0.1\n",
    "\n",
    "TRAIN_DIRECTORY = 'train'\n",
    "TEST_DIRECTORY = 'test'\n",
    "VAL_DIRECTORY = 'val'\n",
    "\n",
    "SUB_DIRECTORIES = [TRAIN_DIRECTORY, TEST_DIRECTORY, VAL_DIRECTORY]\n",
    "\n",
    "DS_STORE = '.DS_Store'\n",
    "\n",
    "TARGET_COUNT = 1000\n",
    "\n",
    "ROTATION_RANGE = 90\n",
    "WIDTH_SHIFT_RANGE = 0.2\n",
    "HEIGHT_SHIFT_RANGE = 0.2\n",
    "SHEAR_RANGE = 0.2\n",
    "ZOOM_RANGE = 0.2\n",
    "HORIZONTAL_FLIP = True\n",
    "FILL_MODE = 'nearest'"
   ]
  },
  {
   "cell_type": "code",
   "execution_count": null,
   "id": "6d8ce21c-def9-4854-8560-71809c2db1d3",
   "metadata": {},
   "outputs": [],
   "source": [
    "def count_images(dir_name):\n",
    "    total = 0\n",
    "    for category in CATEGORY_DIRECTORIES:\n",
    "        path = os.path.join(dir_name, category)\n",
    "        images = [img for img in os.listdir(path) if img.endswith(('jpg','jpeg'))]\n",
    "        print(f\"Number of images in {path.split('/')[-1]}: {len(images)}\")\n",
    "        total += len(images)\n",
    "    print(f\"Total image count: {total}\")"
   ]
  },
  {
   "cell_type": "code",
   "execution_count": null,
   "id": "cb710f1e-368d-4ad8-bf0f-3f1eddf21445",
   "metadata": {},
   "outputs": [],
   "source": [
    "count_images(ORIGINAL_DATA_PATH)"
   ]
  },
  {
   "cell_type": "code",
   "execution_count": null,
   "id": "ea437997-4298-4e64-b17d-0bd3af680c84",
   "metadata": {},
   "outputs": [],
   "source": [
    "def copy_image(old_path, copy_path):\n",
    "    if old_path.endswith(('jpg','jpeg')):\n",
    "        name, ext = os.path.splitext(old_path)\n",
    "        new_name = f\"{name}_ORIGINAL{ext}\".split(\"/\")[-1]\n",
    "        new_path = os.path.join(copy_path, new_name)\n",
    "        # copy the images with ORIGINAL appended\n",
    "        shutil.copy(old_path, new_path)\n",
    "        img_name = old_path.split(\"/\")[-1]\n",
    "        print(f\"Renamed: {img_name} → {new_name}\")"
   ]
  },
  {
   "cell_type": "code",
   "execution_count": null,
   "id": "47fdff7f-082d-4fb7-a5ce-04ca917d51e9",
   "metadata": {},
   "outputs": [],
   "source": [
    "datagen = ImageDataGenerator(\n",
    "    rotation_range=ROTATION_RANGE,\n",
    "    width_shift_range=WIDTH_SHIFT_RANGE,\n",
    "    height_shift_range=HEIGHT_SHIFT_RANGE,\n",
    "    shear_range=SHEAR_RANGE,\n",
    "    zoom_range=ZOOM_RANGE,\n",
    "    horizontal_flip=HORIZONTAL_FLIP,\n",
    "    fill_mode=FILL_MODE)"
   ]
  },
  {
   "cell_type": "code",
   "execution_count": null,
   "id": "189c3eb9-4aeb-46cc-958b-08dc93683691",
   "metadata": {},
   "outputs": [],
   "source": [
    "for category in CATEGORY_DIRECTORIES:\n",
    "    path = AUGMENTED_DATA_PATH\n",
    "    path = os.path.join(path, category)\n",
    "    os.mkdir(path)"
   ]
  },
  {
   "cell_type": "code",
   "execution_count": null,
   "id": "f2927cb8-49a9-44b3-aa57-35e4acd6110c",
   "metadata": {},
   "outputs": [],
   "source": [
    "for category in CATEGORY_DIRECTORIES:\n",
    "    path = BALANCED_DATA_PATH\n",
    "    path = os.path.join(path, category)\n",
    "    os.mkdir(path)"
   ]
  },
  {
   "cell_type": "code",
   "execution_count": null,
   "id": "5fa23acd-0b20-4296-838b-301b8da16145",
   "metadata": {},
   "outputs": [],
   "source": [
    "for dataset in SUB_DIRECTORIES:\n",
    "    for category in CATEGORY_DIRECTORIES:\n",
    "        path = os.path.join(SPLIT_DATA_PATH, dataset, category)\n",
    "        os.mkdir(path)"
   ]
  },
  {
   "cell_type": "code",
   "execution_count": null,
   "id": "3fff023a-d9c1-4a92-9ef9-002bc65f0fdc",
   "metadata": {
    "scrolled": true
   },
   "outputs": [],
   "source": [
    "for category in CATEGORY_DIRECTORIES:\n",
    "    path_o = os.path.join(ORIGINAL_DATA_PATH, category)\n",
    "    path_a = os.path.join(AUGMENTED_DATA_PATH, category)\n",
    "    files = os.listdir(path_o)\n",
    "    for index, file in enumerate(files):\n",
    "        if DS_STORE in file: ### Skip .DS_Store file\n",
    "            continue\n",
    "        print(f'{path_o}/{file}') ### Print the pathname and file name to get an idea about the processing file\n",
    "        img = load_img(str(os.path.join(path_o, file))) ### This is a PIL image\n",
    "        x = img_to_array(img) ### This is a NumPy array with shape (3, 150, 150)\n",
    "        x = x.reshape((1,) + x.shape) ### This is a NumPy array with shape (1, 3, 150, 150)\n",
    "        ### The .flow() command generates batches of randomly transformed images and save the results in the \n",
    "        ### ./data/augmented_images/<data_directory> along with the original image\n",
    "        i = 0\n",
    "        for batch in datagen.flow(x, batch_size=1, save_to_dir=path_a, save_prefix=file.split(\".\")[0], save_format='jpg'):\n",
    "            i += 1\n",
    "            if i > 15:\n",
    "                break ### Stop looping the generator infinitely\n",
    "        ### Save the original image in ./data/augmented/<data_directory> as well\n",
    "        copy_image(os.path.join(path_o, file), path_a)"
   ]
  },
  {
   "cell_type": "code",
   "execution_count": null,
   "id": "477b90f6-6109-4a43-bdc8-ea19cf98f251",
   "metadata": {},
   "outputs": [],
   "source": [
    "count_images(AUGMENTED_DATA_PATH)"
   ]
  },
  {
   "cell_type": "code",
   "execution_count": null,
   "id": "d948d1e9-8e5c-4c8d-952a-0f09ef953d8b",
   "metadata": {},
   "outputs": [],
   "source": [
    "def create_balanced_dataset():\n",
    "    for category in CATEGORY_DIRECTORIES:\n",
    "        source_path = os.path.join(AUGMENTED_DATA_PATH, category)\n",
    "        target_path = os.path.join(BALANCED_DATA_PATH, category)\n",
    "\n",
    "        images = [img for img in os.listdir(source_path) if img.endswith((\"jpg\", \"jpeg\"))]\n",
    "\n",
    "        original_images = [img for img in images if \"ORIGINAL\" in img]\n",
    "        other_images = [img for img in images if \"ORIGINAL\" not in img]\n",
    "\n",
    "        selected_images = original_images[:min(TARGET_COUNT, len(original_images))]\n",
    "\n",
    "        if len(selected_images) < TARGET_COUNT:\n",
    "            remaining_needed = TARGET_COUNT - len(selected_images)\n",
    "            selected_images.extend(random.sample(other_images, min(remaining_needed, len(other_images))))\n",
    "\n",
    "        for img in selected_images:\n",
    "            shutil.copy(os.path.join(source_path, img), os.path.join(target_path, img))\n",
    "\n",
    "        print(f\"{category}: {len(selected_images)} images copied to {target_path}\")\n",
    "    print(\"\\n Balanced dataset created successfully!\\n\")"
   ]
  },
  {
   "cell_type": "code",
   "execution_count": null,
   "id": "3daa4150-2fd2-4791-93ca-875c72c22ea9",
   "metadata": {},
   "outputs": [],
   "source": [
    "create_balanced_dataset()"
   ]
  },
  {
   "cell_type": "code",
   "execution_count": null,
   "id": "a458341a-e62e-4563-a0e0-18cf83afc567",
   "metadata": {},
   "outputs": [],
   "source": [
    "count_images(BALANCED_DATA_PATH)"
   ]
  },
  {
   "cell_type": "code",
   "execution_count": null,
   "id": "2a76798e-2013-44ef-975a-00546e4788b2",
   "metadata": {},
   "outputs": [],
   "source": [
    "def split_dataset():\n",
    "    for category in CATEGORY_DIRECTORIES:\n",
    "        source_path = os.path.join(BALANCED_DATA_PATH, category)\n",
    "\n",
    "        # Define split directories\n",
    "        train_path = os.path.join(SPLIT_DATA_PATH, TRAIN_DIRECTORY, category)\n",
    "        val_path = os.path.join(SPLIT_DATA_PATH, VAL_DIRECTORY, category)\n",
    "        test_path = os.path.join(SPLIT_DATA_PATH, TEST_DIRECTORY, category)\n",
    "\n",
    "        images = [img for img in os.listdir(source_path) if img.endswith(('jpg', 'jpeg'))]\n",
    "        random.shuffle(images)\n",
    "            \n",
    "        # Split images\n",
    "        train_split = int(len(images) * TRAIN_RATIO)\n",
    "        val_split = int(len(images) * (TRAIN_RATIO + VAL_RATIO))\n",
    "\n",
    "        train_images = images[:train_split]\n",
    "        val_images = images[train_split:val_split]\n",
    "        test_images = images[val_split:]\n",
    "\n",
    "        # Copy images to respective folders\n",
    "        for img in train_images:\n",
    "            shutil.copy(os.path.join(source_path, img), os.path.join(train_path, img))\n",
    "\n",
    "        for img in val_images:\n",
    "            shutil.copy(os.path.join(source_path, img), os.path.join(val_path, img))\n",
    "\n",
    "        for img in test_images:\n",
    "            shutil.copy(os.path.join(source_path, img), os.path.join(test_path, img))\n",
    "\n",
    "        print(f\"{category}: {len(train_images)} train, {len(val_images)} val, {len(test_images)} test images\")\n",
    "\n",
    "    print(\"\\n Dataset successfully split into train, val, and test. \\n\")"
   ]
  },
  {
   "cell_type": "code",
   "execution_count": null,
   "id": "e6447611-4251-4f88-9c99-82ffa5d21197",
   "metadata": {},
   "outputs": [],
   "source": [
    "split_dataset()"
   ]
  },
  {
   "cell_type": "code",
   "execution_count": null,
   "id": "012551f2-ffd9-4109-8d77-6e80448972ce",
   "metadata": {},
   "outputs": [],
   "source": []
  }
 ],
 "metadata": {
  "kernelspec": {
   "display_name": "Python 3 (ipykernel)",
   "language": "python",
   "name": "python3"
  },
  "language_info": {
   "codemirror_mode": {
    "name": "ipython",
    "version": 3
   },
   "file_extension": ".py",
   "mimetype": "text/x-python",
   "name": "python",
   "nbconvert_exporter": "python",
   "pygments_lexer": "ipython3",
   "version": "3.8.18"
  }
 },
 "nbformat": 4,
 "nbformat_minor": 5
}
