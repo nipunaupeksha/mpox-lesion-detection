{
 "cells": [
  {
   "cell_type": "code",
   "execution_count": 4,
   "id": "6e98fb86-748e-487f-ad93-7c5ae315a2dd",
   "metadata": {},
   "outputs": [],
   "source": [
    "import numpy as np\n",
    "import matplotlib.pyplot as plt\n",
    "from sklearn import metrics as sk\n",
    "from sklearn.metrics import confusion_matrix\n",
    "import networkx as nx\n",
    "from torch_geometric.typing import SparseTensor\n",
    "from torch_geometric.nn.conv.gcn_conv import gcn_norm\n",
    "import torch.nn.functional as F\n",
    "import torch"
   ]
  },
  {
   "cell_type": "code",
   "execution_count": null,
   "id": "cdb92223-8a2b-4b95-8097-526f838dabae",
   "metadata": {},
   "outputs": [],
   "source": [
    "TRAIN_IMAGES_PATH = './data/images/train'\n",
    "TEST_IMAGES_PATH = './data/images/test'\n",
    "VAL_IMAGES_PATH = './data/images/val'\n",
    "\n",
    "TRAIN_NPZ_FILE = './data/npz/train_images.npz'\n",
    "TEST_NPZ_FILE = './data/npz/test_images.npz'\n",
    "VAL_NPZ_FILE = './data/npz/val_images.npz'\n",
    "\n",
    "NUM_FEATURES = 224 * 224 * 3"
   ]
  },
  {
   "cell_type": "code",
   "execution_count": 6,
   "id": "963478c4-d010-4f23-bcba-d9ad86e71429",
   "metadata": {},
   "outputs": [],
   "source": [
    "def load_npz_as_tensors(file_path):\n",
    "    \"\"\"\n",
    "    Load the .npz files as tensors\n",
    "\n",
    "    Args:\n",
    "        file_path (string): To get the .npz file and load it as a tensor\n",
    "    \"\"\"\n",
    "    data = np.load(file_path, allow_pickle=True)\n",
    "\n",
    "    images = data['images']\n",
    "    labels = data['labels']\n",
    "\n",
    "    images_tensor = torch.tensor(images, dtype=torch.float32)\n",
    "    labels_tensor = torch.tensor(labels, dtype=torch.long)\n",
    "\n",
    "    return images_tensor, labels_tensor"
   ]
  },
  {
   "cell_type": "code",
   "execution_count": null,
   "id": "b0f19001-e79a-4f13-a8b2-180e7621bffd",
   "metadata": {},
   "outputs": [],
   "source": [
    "def process_data(sparsity):\n",
    "    \"\"\"\n",
    "    Process and save the data in both sparse and dense formats.\n",
    "\n",
    "    Args:\n",
    "        sparsity (bool): Whether to process the dataset as sparse or dense\n",
    "    \"\"\"\n",
    "    \n",
    "    # Load training data\n",
    "    train_images, train_labels = load_npz_as_tensors(TRAIN_NPZ_FILE)\n",
    "    train_data = train_images.reshape(train_images.shape[0], NUM_FEATURES)\n",
    "    num_train = train_images.shape[0]\n",
    "\n",
    "    # Load validation data\n",
    "    val_images, val_labels = load_npz_as_tensors(VAL_NPZ_FILE)\n",
    "    val_data = val_images.reshape(val_images.shape[0], NUM_FEATURES)\n",
    "    num_val = val_images.shape[0]\n",
    "\n",
    "    # Load test data\n",
    "    test_images, test_labels = load_npz_as_tensors(TEST_NPZ_FILE)\n",
    "    test_data = test_images.reshape(test_images.shape[0], NUM_FEATURES)\n",
    "    num_test = test_images.shape[0]\n",
    "\n",
    "    # Concatenate train, validation, and test data\n",
    "    num_data = num_train + num_val + num_test\n",
    "    data_feat = np.concatenate((train_data, val_data, test_data), axis=0)\n",
    "    data_label = np.concatenate((train_labels, val_labels, test_labels), axis=0).reshape(-1)\n",
    "\n",
    "    # Construct and scale adjacency matrix\n",
    "    adj_matrix = sk.pairwise.cosine_similarity(data_feat, data_feat)\n",
    "    adj_matrix = (adj_matrix - adj_matrix.min())/(adj_matrix.max()-adj_matrix.min())\n",
    "\n",
    "    # Apply sparsity thresholds\n",
    "    threshold = 0.977 if sparsity else 0.970\n",
    "\n",
    "    adj_matrix = adj_matrix > threshold\n",
    "\n",
    "    # Generate masks\n",
    "    train_mask = np.zeros(num_data, dtype=bool)\n",
    "    train_mask[:num_train] = True\n",
    "    val_mask = np.zeros(num_data, dtype=bool)\n",
    "    val_mask[num_train:num_train + num_val] = True\n",
    "    test_mask = np.zeros(num_data, dtype=bool)\n",
    "    test_mask[num_train + num_val:] = True\n",
    "\n",
    "    # Save masks, features, labels, and edge index\n",
    "    suffix = 'sparse' if sparsity else 'dense'\n",
    "    base_path = f\"./data/npz/{suffix}\"\n",
    "\n",
    "    np.savez_compressed(f\"{base_path}/train_mask.npz\", train_mask=train_mask)\n",
    "    np.savez_compressed(f\"{base_path}/val_mask.npz\", val_mask=val_mask)\n",
    "    np.savez_compressed(f\"{base_path}/test_mask.npz\", test_mask=test_mask)\n",
    "    np.savez_compressed(f\"{base_path}/data_feat.npz\", data_feat=data_feat)\n",
    "    np.savez_compressed(f\"{base_path}/data_label.npz\", data_label=data_label)\n",
    "\n",
    "    # Generate and save edge index\n",
    "    edge_index = np.array([[i, j] for i in range(num_data) for j in range(num_data) if i != j and adj_matrix[i, j]])\n",
    "    np.savez_compressed(f\"{base_path}/edge_index.npz\", edge_index=edge_index)\n",
    "\n",
    "    print(f\"View-({'Sparse' if sparsity else 'Dense'}) generated!\")"
   ]
  },
  {
   "cell_type": "code",
   "execution_count": null,
   "id": "968b9194-f73d-4ec6-8391-3ab695d8c25c",
   "metadata": {},
   "outputs": [],
   "source": []
  },
  {
   "cell_type": "code",
   "execution_count": null,
   "id": "0ac277c1-033f-4b77-b556-8f3ddc3b7fdb",
   "metadata": {},
   "outputs": [],
   "source": []
  },
  {
   "cell_type": "code",
   "execution_count": null,
   "id": "3f27431e-7abd-45e7-a7a0-4549b3bde472",
   "metadata": {},
   "outputs": [],
   "source": []
  },
  {
   "cell_type": "code",
   "execution_count": null,
   "id": "733accae-0c75-4a77-86b1-b1d494744d04",
   "metadata": {},
   "outputs": [],
   "source": []
  },
  {
   "cell_type": "code",
   "execution_count": null,
   "id": "021e8356-cd24-4b98-b017-792f501de818",
   "metadata": {},
   "outputs": [],
   "source": []
  }
 ],
 "metadata": {
  "kernelspec": {
   "display_name": "Python 3 (ipykernel)",
   "language": "python",
   "name": "python3"
  },
  "language_info": {
   "codemirror_mode": {
    "name": "ipython",
    "version": 3
   },
   "file_extension": ".py",
   "mimetype": "text/x-python",
   "name": "python",
   "nbconvert_exporter": "python",
   "pygments_lexer": "ipython3",
   "version": "3.8.18"
  }
 },
 "nbformat": 4,
 "nbformat_minor": 5
}
