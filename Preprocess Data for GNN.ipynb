{
 "cells": [
  {
   "cell_type": "code",
   "execution_count": null,
   "id": "e2dddc1a-65cb-4c30-a781-a15cc4166b5c",
   "metadata": {},
   "outputs": [],
   "source": [
    "import os\n",
    "import numpy as np\n",
    "import matplotlib.pyplot as plt\n",
    "from PIL import Image\n",
    "from tqdm import tqdm"
   ]
  },
  {
   "cell_type": "code",
   "execution_count": null,
   "id": "e33ac6f2-bd69-4143-9d60-21bd6661670d",
   "metadata": {},
   "outputs": [],
   "source": [
    "TRAIN_IMAGES_PATH = './data/images/train'\n",
    "TEST_IMAGES_PATH = './data/images/test'\n",
    "VAL_IMAGES_PATH = './data/images/val'\n",
    "\n",
    "TRAIN_NPZ_FILE = './data/npz/train_images.npz'\n",
    "TEST_NPZ_FILE = './data/npz/test_images.npz'\n",
    "VAL_NPZ_FILE = './data/npz/val_images.npz'\n",
    "\n",
    "NUM_FEATURES = 224 * 224 * 3"
   ]
  },
  {
   "cell_type": "code",
   "execution_count": null,
   "id": "001dc524-7a15-451c-bc8d-355857e9834d",
   "metadata": {},
   "outputs": [],
   "source": [
    "def preprocess_images_to_numpy_arrays(input_dir, output_file, img_size=224, grayscale=False):\n",
    "    images, labels = [], []\n",
    "    directories = [d for d in os.listdir(input_dir) if d!='.DS_Store']\n",
    "    class_names = sorted(directories)\n",
    "    class_to_idx = {class_name: idx for idx, class_name in enumerate(class_names)}\n",
    "\n",
    "    for class_name in tqdm(class_names, desc='Processing classes'):\n",
    "        class_dir = os.path.join(input_dir, class_name)\n",
    "        image_names = [img for img in os.listdir(class_dir) if img.endswith(('jpg', 'jpeg'))]\n",
    "        print(f'Processing {class_dir} directory')\n",
    "        \n",
    "        for img_name in image_names:\n",
    "            if type(img_name)== str:\n",
    "                img_path = os.path.join(class_dir, img_name)\n",
    "                img = Image.open(img_path)\n",
    "                if grayscale:\n",
    "                    img = img.convert(\"L\")\n",
    "                else:\n",
    "                    img = img.convert(\"RGB\")\n",
    "                img = img.resize((img_size, img_size), Image.Resampling.LANCZOS)\n",
    "                img_array = np.array(img, dtype=np.float32)/255.0\n",
    "\n",
    "                images.append(img_array)\n",
    "                labels.append(class_to_idx[class_name])\n",
    "                \n",
    "    images = np.stack(images)\n",
    "    labels = np.array(labels)\n",
    "\n",
    "    np.savez_compressed(output_file, images=images, labels=labels, classes=class_names)\n",
    "    print(f\"Saved preprocessed data to {output_file}\")"
   ]
  },
  {
   "cell_type": "code",
   "execution_count": null,
   "id": "792f0eae-8e23-436d-a561-798611aebbe7",
   "metadata": {},
   "outputs": [],
   "source": [
    "preprocess_images_to_numpy_arrays(input_dir=TRAIN_IMAGES_PATH, output_file=TRAIN_NPZ_FILE)"
   ]
  },
  {
   "cell_type": "code",
   "execution_count": null,
   "id": "cf91cb23-224b-45e5-9c2e-8a332f6bc29f",
   "metadata": {},
   "outputs": [],
   "source": [
    "preprocess_images_to_numpy_arrays(input_dir=TEST_IMAGES_PATH, output_file=TEST_NPZ_FILE)"
   ]
  },
  {
   "cell_type": "code",
   "execution_count": null,
   "id": "f3caa299-e673-4c7b-b229-3986c6ba157b",
   "metadata": {},
   "outputs": [],
   "source": [
    "preprocess_images_to_numpy_arrays(input_dir=VAL_IMAGES_PATH, output_file=VAL_NPZ_FILE)"
   ]
  },
  {
   "cell_type": "code",
   "execution_count": null,
   "id": "0856bf30-a749-4d00-97b2-86f01c013248",
   "metadata": {},
   "outputs": [],
   "source": [
    "def load_and_visualize_npz(file_path, dataset, idx=0):\n",
    "    data = np.load(file_path, allow_pickle=True)\n",
    "    images, labels, class_names = data['images'], data['labels'], data['classes']\n",
    "\n",
    "    image = images[idx]\n",
    "    label = labels[idx]\n",
    "    class_name = class_names[label]\n",
    "\n",
    "    plt.imshow(image)\n",
    "    plt.title(f\"Class: {class_name} in {dataset}\")\n",
    "    plt.axis(\"off\")\n",
    "    plt.show()"
   ]
  },
  {
   "cell_type": "code",
   "execution_count": null,
   "id": "eaec7922-c2f5-4893-bce3-fcbd1a27aa56",
   "metadata": {},
   "outputs": [],
   "source": [
    "load_and_visualize_npz(TRAIN_NPZ_FILE, 'train', idx=10)"
   ]
  },
  {
   "cell_type": "code",
   "execution_count": null,
   "id": "50c004e7-0461-449b-b92c-8fc6bc810634",
   "metadata": {},
   "outputs": [],
   "source": [
    "load_and_visualize_npz(TEST_NPZ_FILE, 'test', idx=5)"
   ]
  },
  {
   "cell_type": "code",
   "execution_count": null,
   "id": "e16b36d4-f7cd-4cc1-8923-f42397d29288",
   "metadata": {},
   "outputs": [],
   "source": [
    "load_and_visualize_npz(VAL_NPZ_FILE, 'val', idx=5)"
   ]
  }
 ],
 "metadata": {
  "kernelspec": {
   "display_name": "Python 3 (ipykernel)",
   "language": "python",
   "name": "python3"
  },
  "language_info": {
   "codemirror_mode": {
    "name": "ipython",
    "version": 3
   },
   "file_extension": ".py",
   "mimetype": "text/x-python",
   "name": "python",
   "nbconvert_exporter": "python",
   "pygments_lexer": "ipython3",
   "version": "3.8.18"
  }
 },
 "nbformat": 4,
 "nbformat_minor": 5
}
