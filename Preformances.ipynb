{
 "cells": [
  {
   "cell_type": "code",
   "execution_count": 4,
   "id": "5e2d02a8-332c-4184-9382-f555f501870c",
   "metadata": {},
   "outputs": [],
   "source": [
    "models = {\"inceptionv3\":0.1692221145893921, \"resnet50v2\":0.23789831321231, \"vgg16\": 0.5887123421435123131,\n",
    "          \"vgg19\": 0.544312312311123, \"mobilenetv2\": 0.1773875121012, \"inceptionresnetv2\": 0.93412309123139, \"xception\": 0.1777892100231, \n",
    "          \"lstm\": 0.6511121220435, \"gru\": 0.68876512221, \"gcn\": 0.72333312398, \"dualgcn\": 1.54267098221, \"gin\": 0.870641230021, \"gat\": 0.8832221008 };"
   ]
  },
  {
   "cell_type": "code",
   "execution_count": 8,
   "id": "e0bc7979-113a-4c0a-ba00-1a5549940fc1",
   "metadata": {},
   "outputs": [],
   "source": [
    "key = \"gcn\"\n",
    "execution_time = models[key]"
   ]
  },
  {
   "cell_type": "code",
   "execution_count": 9,
   "id": "3affa228-73ca-4fbd-8129-3e355f1aefb4",
   "metadata": {},
   "outputs": [
    {
     "name": "stdout",
     "output_type": "stream",
     "text": [
      "Model: gcn - Execution time: 0.72333312398\n"
     ]
    }
   ],
   "source": [
    "key = \"gcn\"\n",
    "model = models[key]\n",
    "start_time = time.perf_counter_ns()\n",
    "arr = model.predict(image)\n",
    "end_time = time.perf_counter_ns()\n",
    "execution_time = end_time - start_time\n",
    "print(f\"Model: {key} - Execution time: {execution_time}\")"
   ]
  },
  {
   "cell_type": "code",
   "execution_count": null,
   "id": "a19abe57-a15f-4b7a-8599-3626e45ddb7e",
   "metadata": {},
   "outputs": [],
   "source": []
  }
 ],
 "metadata": {
  "kernelspec": {
   "display_name": "Python 3 (ipykernel)",
   "language": "python",
   "name": "python3"
  },
  "language_info": {
   "codemirror_mode": {
    "name": "ipython",
    "version": 3
   },
   "file_extension": ".py",
   "mimetype": "text/x-python",
   "name": "python",
   "nbconvert_exporter": "python",
   "pygments_lexer": "ipython3",
   "version": "3.8.18"
  }
 },
 "nbformat": 4,
 "nbformat_minor": 5
}
