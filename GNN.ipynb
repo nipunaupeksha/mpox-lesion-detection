{
 "cells": [
  {
   "cell_type": "code",
   "execution_count": 6,
   "id": "bc745bfd-beaa-4163-a5f6-e8f1921552e7",
   "metadata": {},
   "outputs": [],
   "source": [
    "# import gc\n",
    "\n",
    "import torch\n",
    "import torch.nn.functional as F\n",
    "import torch.nn.functional as F\n",
    "from torch.optim.lr_scheduler import ReduceLROnPlateau\n",
    "\n",
    "import torch_geometric.transforms as T\n",
    "from torch_geometric.data import NeighborSampler\n",
    "from torch_geometric.nn import SAGEConv, GCNConv\n",
    "from torch_geometric import utils, loader\n",
    "from torch_geometric.utils import subgraph\n",
    "\n",
    "from torch_geometric.nn import (\n",
    "    Aggregation,\n",
    "    MaxAggregation,\n",
    "    MeanAggregation,\n",
    "    MultiAggregation,\n",
    "    SoftmaxAggregation,\n",
    "    StdAggregation,\n",
    "    SumAggregation,\n",
    "    VarAggregation,\n",
    "    LSTMAggregation\n",
    ")\n",
    "\n",
    "# importing obg datatset\n",
    "from ogb.nodeproppred import PygNodePropPredDataset\n",
    "from ogb.nodeproppred import PygNodePropPredDataset, Evaluator\n",
    "\n",
    "from pandas.core.common import flatten\n",
    "# import seaborn as sns\n",
    "import matplotlib.pyplot as plt\n",
    "# sns.set(rc={'figure.figsize':(16.7,8.27)})\n",
    "# sns.set_theme(style=\"ticks\")\n",
    "from collections import Counter\n",
    "\n",
    "\n",
    "from tqdm import tqdm\n",
    "import collections\n",
    "import os.path as osp\n",
    "import pandas as pd\n",
    "import numpy as np\n",
    "import collections\n",
    "# from pandas.core.common import flatten\n",
    "# from scipy.special import softmax\n",
    "\n",
    "import random\n",
    "\n",
    "# Setting the seed\n",
    "random.seed(42)\n",
    "np.random.seed(42)\n",
    "torch.manual_seed(42)\n",
    "torch.cuda.manual_seed(42)"
   ]
  },
  {
   "cell_type": "code",
   "execution_count": 7,
   "id": "4e6bb16a-cb57-4cc8-b655-554dbb74a7f5",
   "metadata": {},
   "outputs": [],
   "source": [
    "opt = 'GCN'"
   ]
  },
  {
   "cell_type": "code",
   "execution_count": 9,
   "id": "093a90a8-d73b-4034-b6d1-2d93752b2638",
   "metadata": {},
   "outputs": [
    {
     "name": "stdout",
     "output_type": "stream",
     "text": [
      "Device: cpu\n"
     ]
    }
   ],
   "source": [
    "# Load the OGB evaluator for the dataset\n",
    "evaluator = Evaluator(name='ogbn-products')\n",
    "\n",
    "# Establish the device for model training 'cuda' if GPU, 'cpu' otherwise\n",
    "device = 'cuda' if torch.cuda.is_available() else 'cpu'\n",
    "device = torch.device(device)\n",
    "\n",
    "# Confirm the device. If it's a GPU, 'cuda' will print\n",
    "print('Device: {}'.format(device))"
   ]
  },
  {
   "cell_type": "code",
   "execution_count": null,
   "id": "d8b56169-f68e-414e-9132-818f267299cc",
   "metadata": {},
   "outputs": [],
   "source": []
  }
 ],
 "metadata": {
  "kernelspec": {
   "display_name": "Python 3 (ipykernel)",
   "language": "python",
   "name": "python3"
  },
  "language_info": {
   "codemirror_mode": {
    "name": "ipython",
    "version": 3
   },
   "file_extension": ".py",
   "mimetype": "text/x-python",
   "name": "python",
   "nbconvert_exporter": "python",
   "pygments_lexer": "ipython3",
   "version": "3.8.18"
  }
 },
 "nbformat": 4,
 "nbformat_minor": 5
}
