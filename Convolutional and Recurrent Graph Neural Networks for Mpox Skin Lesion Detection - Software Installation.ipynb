{
 "cells": [
  {
   "cell_type": "markdown",
   "id": "ec954a87-9b37-4e64-9d0a-af589013d9c8",
   "metadata": {},
   "source": [
    "# 🤖 Software Installation on Mac - Apple M1 Chip"
   ]
  },
  {
   "cell_type": "markdown",
   "id": "215667eb-2dc0-42de-9549-07c11c77c709",
   "metadata": {},
   "source": [
    "## ⚙️ Installing Python and Tensorflow"
   ]
  },
  {
   "cell_type": "markdown",
   "id": "cf9a6a01-3315-458f-9627-f1e996d58287",
   "metadata": {},
   "source": [
    "With the Apple Silicone chip, Apple introduced the system using a chip architecture. The Mac M1 contains a CPU, GPU, and deep-learning hardware support, all on a single chip. Although the Mac M1 can run software created for the older Intel Mac's using an emulator called Rosetta, installing Tensorflow for machine learning and deep learning has been quite a laborious task for a while. \n",
    "\n",
    "This notebook intends to fill that lacuna by providing concise steps to install Tensorflow and other important libraries(e.g. pandas, numpy, scikit-learn)."
   ]
  },
  {
   "cell_type": "markdown",
   "id": "1007f63d-5ed9-469c-9b1e-2aa806f8d4c9",
   "metadata": {},
   "source": [
    "## 👾 Install Miniconda"
   ]
  },
  {
   "cell_type": "markdown",
   "id": "826ba5e9-0fff-438b-ad9d-0340799523f6",
   "metadata": {},
   "source": [
    "It is possible to install and run Python/Tensorflow entirely from your Mac, without need of Google CoLab. Running Tensorflow locally requires some configuration and some software installation. The following instructions indicates how you can install Tensorflow for both CPU and GPU on Mac.\n",
    "\n",
    "First, you need to install a Python version ≥ 3.8. To install Python it is better to use a virtual environment. Some of the most famous virtual environments for Python are,\n",
    "- Anaconda\n",
    "- Mini-Forge\n",
    "- Miniconda\n",
    "\n",
    "In this guide, we are going to install Miniconda, which is the minimal set of features you need to create a virtual environment and start developing. Rather than installing a heavy software like Anaconda, it is better to install Miniconda, as it gives almost all the features that you need to create an environment and start building your projects.\n",
    "\n",
    "To install Miniconda, go to the following URL and download Miniconda for Apple M1.\n",
    "\n",
    "[Miniconda](https://docs.conda.io/en/latest/miniconda.html)\n",
    "\n",
    "*Make sure to download Apple M1 supporting **.pkg** version (e.g. Miniconda3 macOS Apple M1 64-bit.pkg)*"
   ]
  },
  {
   "cell_type": "markdown",
   "id": "832601d3-3637-4653-854f-d27fac312028",
   "metadata": {},
   "source": [
    "## 🎮 Setup Miniconda"
   ]
  },
  {
   "cell_type": "markdown",
   "id": "189b8532-a285-459e-806e-f0ea21f3d408",
   "metadata": {},
   "source": [
    "First check whether the Miniconda is working by typing the following command in the terminal.\n",
    "\n",
    "```\n",
    "conda -V\n",
    "```\n",
    "\n",
    "or\n",
    "\n",
    "```\n",
    "conda --version\n",
    "```\n",
    "\n",
    "However, if this does not work then there might be an issue with the `~/.zshrc` file or `~/.bash_profile` file depending on the terminal you are using. Add the following configurations that are missing from the above configuration files. Make sure to check whether the Miniconda has been installed in the `/opt` directory as well.\n",
    "\n",
    "- ***~/.zshrc***\n",
    "```\n",
    "# >>> conda initialize >>>\n",
    "# !! Contents within this block are managed by 'conda init' !!\n",
    "__conda_setup=\"$('/Users/nipunaupeksha/opt/miniconda3/bin/conda' 'shell.zsh' 'hook' 2> /dev/null)\"\n",
    "if [ $? -eq 0 ]; then\n",
    "    eval \"$__conda_setup\"\n",
    "else\n",
    "    if [ -f \"/Users/nipunaupeksha/opt/miniconda3/etc/profile.d/conda.sh\" ]; then\n",
    "        . \"/Users/nipunaupeksha/opt/miniconda3/etc/profile.d/conda.sh\"\n",
    "    else\n",
    "        export PATH=\"/Users/nipunaupeksha/opt/miniconda3/bin:$PATH\"\n",
    "    fi\n",
    "fi\n",
    "unset __conda_setup\n",
    "# <<< conda initialize <<<\n",
    "```\n",
    "\n",
    "- ***~/.bash_profile***\n",
    "```\n",
    "# >>> conda initialize >>>\n",
    "# !! Contents within this block are managed by 'conda init' !!\n",
    "__conda_setup=\"$('/Users/nipunaupeksha/opt/miniconda3/bin/conda' 'shell.bash' 'hook' 2> /dev/null)\"\n",
    "if [ $? -eq 0 ]; then\n",
    "    eval \"$__conda_setup\"\n",
    "else\n",
    "    if [ -f \"/Users/nipunaupeksha/opt/miniconda3/etc/profile.d/conda.sh\" ]; then\n",
    "        . \"/Users/nipunaupeksha/opt/miniconda3/etc/profile.d/conda.sh\"\n",
    "    else\n",
    "        export PATH=\"/Users/nipunaupeksha/opt/miniconda3/bin:$PATH\"\n",
    "    fi\n",
    "fi\n",
    "unset __conda_setup\n",
    "# <<< conda initialize <<<\n",
    "```\n",
    "\n",
    "Make sure to use your username when adding the paths."
   ]
  },
  {
   "cell_type": "markdown",
   "id": "514f1be2-1d71-4451-9ecc-aa91ba822681",
   "metadata": {},
   "source": [
    "##  Install xcode-select command-line Utilities"
   ]
  },
  {
   "cell_type": "markdown",
   "id": "6c589bed-12dc-4756-a40f-94e505f7c4f5",
   "metadata": {},
   "source": [
    "After installing the Miniconda you need to install the `xcode-select` command-line utilities using the following command.\n",
    "\n",
    "```\n",
    "xcode-select --install\n",
    "```\n",
    "\n",
    "If the above command gives you an error, you should install XCode from the App Store."
   ]
  },
  {
   "cell_type": "markdown",
   "id": "4a9eba18-7e25-42f7-badb-5b1474050525",
   "metadata": {},
   "source": [
    "## 🌱 Create a New Virtual Environment"
   ]
  },
  {
   "cell_type": "markdown",
   "id": "02ac69db-7e28-4d06-8bc4-6b0adc2b7731",
   "metadata": {},
   "source": [
    "By default, Miniconda has an environment named `base` which we need to deactivate before creating a new environment. To aviod automatically activating that `base` environment we can use the following command.\n",
    "\n",
    "```\n",
    "conda config --set auto_activate_base false\n",
    "```\n",
    "\n",
    "After that, we can create a new virtual environment for Python 3.8 using the following command.\n",
    "\n",
    "```\n",
    "conda create --name msc python=3.8\n",
    "```\n",
    "\n",
    "In this case, I have selected my environment name as `msc` and Python version as 3.8.\n",
    "\n",
    "Activate the new environment by executing the following.\n",
    "\n",
    "```\n",
    "conda activate msc\n",
    "```"
   ]
  },
  {
   "cell_type": "code",
   "execution_count": null,
   "id": "46046539-9bb3-48cf-b7bd-0448feda03d2",
   "metadata": {},
   "outputs": [],
   "source": []
  }
 ],
 "metadata": {
  "kernelspec": {
   "display_name": "Python 3 (ipykernel)",
   "language": "python",
   "name": "python3"
  },
  "language_info": {
   "codemirror_mode": {
    "name": "ipython",
    "version": 3
   },
   "file_extension": ".py",
   "mimetype": "text/x-python",
   "name": "python",
   "nbconvert_exporter": "python",
   "pygments_lexer": "ipython3",
   "version": "3.8.18"
  }
 },
 "nbformat": 4,
 "nbformat_minor": 5
}
