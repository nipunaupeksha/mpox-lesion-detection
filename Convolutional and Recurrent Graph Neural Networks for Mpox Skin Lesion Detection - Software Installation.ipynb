{
 "cells": [
  {
   "cell_type": "markdown",
   "id": "ec954a87-9b37-4e64-9d0a-af589013d9c8",
   "metadata": {},
   "source": [
    "# 🤖 Software Installation on Mac - Apple M1 Chip"
   ]
  },
  {
   "cell_type": "markdown",
   "id": "215667eb-2dc0-42de-9549-07c11c77c709",
   "metadata": {},
   "source": [
    "## ⚙️ Installing Python and Tensorflow"
   ]
  },
  {
   "cell_type": "markdown",
   "id": "cf9a6a01-3315-458f-9627-f1e996d58287",
   "metadata": {},
   "source": [
    "With the Apple Silicone chip, Apple introduced the system using a chip architecture. The Mac M1 contains a CPU, GPU, and deep-learning hardware support, all on a single chip. Although the Mac M1 can run software created for the older Intel Mac's using an emulator called Rosetta, installing Tensorflow for machine learning and deep learning has been quite a laborious task for a while. \n",
    "\n",
    "This notebook intends to fill that lacuna by providing concise steps to install Tensorflow and other important libraries(e.g. pandas, numpy, scikit-learn)."
   ]
  },
  {
   "cell_type": "markdown",
   "id": "1007f63d-5ed9-469c-9b1e-2aa806f8d4c9",
   "metadata": {},
   "source": [
    "## 👾 Install Miniconda"
   ]
  },
  {
   "cell_type": "markdown",
   "id": "826ba5e9-0fff-438b-ad9d-0340799523f6",
   "metadata": {},
   "source": [
    "It is possible to install and run Python/Tensorflow entirely from your Mac, without need of Google CoLab. Running Tensorflow locally requires some configuration and some software installation. The following instructions indicates how you can install Tensorflow for both CPU and GPU on Mac.\n",
    "\n",
    "First, you need to install a Python version ≥ 3.8. To install Python it is better to use a virtual environment. Some of the most famous virtual environments for Python are,\n",
    "- Anaconda\n",
    "- Mini-Forge\n",
    "- Miniconda\n",
    "\n",
    "In this guide, we are going to install Miniconda, which is the minimal set of features you need to create a virtual environment and start developing. Rather than installing a heavy software like Anaconda, it is better to install Miniconda, as it gives almost all the features that you need to create an environment and start building your projects.\n",
    "\n",
    "To install Miniconda, go to the following URL and download Miniconda for Apple M1.\n",
    "\n",
    "[Miniconda](https://docs.conda.io/en/latest/miniconda.html)\n",
    "\n",
    "*Make sure to download Apple M1 supporting **.pkg** version (e.g. Miniconda3 macOS Apple M1 64-bit.pkg)*"
   ]
  },
  {
   "cell_type": "code",
   "execution_count": null,
   "id": "3465d434-3909-44c5-8972-1c83124425c8",
   "metadata": {},
   "outputs": [],
   "source": []
  }
 ],
 "metadata": {
  "kernelspec": {
   "display_name": "Python 3 (ipykernel)",
   "language": "python",
   "name": "python3"
  },
  "language_info": {
   "codemirror_mode": {
    "name": "ipython",
    "version": 3
   },
   "file_extension": ".py",
   "mimetype": "text/x-python",
   "name": "python",
   "nbconvert_exporter": "python",
   "pygments_lexer": "ipython3",
   "version": "3.8.18"
  }
 },
 "nbformat": 4,
 "nbformat_minor": 5
}
